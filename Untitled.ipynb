{
 "cells": [
  {
   "cell_type": "code",
   "execution_count": 3,
   "metadata": {},
   "outputs": [],
   "source": [
    "import numpy as np\n",
    "import pandas as pd\n",
    "import matplotlib.pyplot as plt"
   ]
  },
  {
   "cell_type": "markdown",
   "metadata": {},
   "source": [
    "상관관계\n",
    "\n",
    "- -1.0     -0.7    강한 음적 선형관계\n",
    "- -0.7     -0.3    뚜렷한 음적 선형관계\n",
    "- -0.3     -0.1    약한 음적 선형관계\n",
    "- -0.1      0.1    거의 무시 선형관계\n",
    "-  0.1      0.3    약한 양적 선형관계\n",
    "-  0.3      0.7    뚜렷한 양적 선형관계\n",
    "-  0.7      1.0    강한 양적 선형관계"
   ]
  },
  {
   "cell_type": "markdown",
   "metadata": {},
   "source": [
    "matplotlib 보다\n",
    "seaborn 이 복잡한 것을 더 잘 표현 \n",
    "pandas와 함께 응용 가능 "
   ]
  },
  {
   "cell_type": "markdown",
   "metadata": {},
   "source": [
    "범례 및 주석"
   ]
  },
  {
   "cell_type": "code",
   "execution_count": null,
   "metadata": {},
   "outputs": [],
   "source": [
    "복붙\n",
    "\n",
    "label을 달고\n",
    "legend 호출"
   ]
  }
 ],
 "metadata": {
  "kernelspec": {
   "display_name": "Python 3",
   "language": "python",
   "name": "python3"
  },
  "language_info": {
   "codemirror_mode": {
    "name": "ipython",
    "version": 3
   },
   "file_extension": ".py",
   "mimetype": "text/x-python",
   "name": "python",
   "nbconvert_exporter": "python",
   "pygments_lexer": "ipython3",
   "version": "3.7.3"
  }
 },
 "nbformat": 4,
 "nbformat_minor": 2
}
