{
 "cells": [
  {
   "cell_type": "markdown",
   "metadata": {},
   "source": [
    "# 4장 : 통계학 및 선형 대수"
   ]
  },
  {
   "cell_type": "markdown",
   "metadata": {},
   "source": [
    "# 기본적인 통계학"
   ]
  },
  {
   "cell_type": "code",
   "execution_count": 1,
   "metadata": {},
   "outputs": [
    {
     "name": "stdout",
     "output_type": "stream",
     "text": [
      "The statistical valus for amounts of co2 in atmosphere : \n",
      "\n",
      "Max method :  366.84\n",
      "Max function :  366.84\n",
      "Min method :  313.18\n",
      "Min function :  313.18\n",
      "Mean method :  337.0535256410256\n",
      "Mean function :  337.0535256410256\n",
      "Std method :  14.950221626197369\n",
      "Std function :  14.950221626197369\n",
      "Median :  335.17\n",
      "Score at percentile 50 :  335.17\n"
     ]
    }
   ],
   "source": [
    "%matplotlib inline\n",
    "import numpy as np\n",
    "from scipy.stats import scoreatpercentile\n",
    "import pandas as pd\n",
    "\n",
    "data = pd.read_csv(\"co2.csv\", index_col=0, parse_dates=True)\n",
    "\n",
    "co2 = np.array(data.co2)\n",
    "\n",
    "print(\"The statistical valus for amounts of co2 in atmosphere : \\n\")\n",
    "print(\"Max method : \", co2.max())\n",
    "print(\"Max function : \", np.max(co2))\n",
    "\n",
    "print(\"Min method : \", co2.min())\n",
    "print(\"Min function : \", np.min(co2))\n",
    "\n",
    "print(\"Mean method : \", co2.mean())\n",
    "print(\"Mean function : \", np.mean(co2))\n",
    "\n",
    "print(\"Std method : \", co2.std())\n",
    "print(\"Std function : \", np.std(co2))\n",
    "\n",
    "print(\"Median : \", np.median(co2))\n",
    "print(\"Score at percentile 50 : \", scoreatpercentile(co2, 50))"
   ]
  },
  {
   "cell_type": "markdown",
   "metadata": {},
   "source": [
    "# 선형 대수"
   ]
  },
  {
   "cell_type": "markdown",
   "metadata": {
    "collapsed": true
   },
   "source": [
    "## 역행렬 구하기"
   ]
  },
  {
   "cell_type": "code",
   "execution_count": 2,
   "metadata": {},
   "outputs": [],
   "source": [
    "A = np.mat(\"2 4 6;4 2 6;10 -4 18\")"
   ]
  },
  {
   "cell_type": "code",
   "execution_count": 3,
   "metadata": {},
   "outputs": [
    {
     "name": "stdout",
     "output_type": "stream",
     "text": [
      "A\n",
      " [[ 2  4  6]\n",
      " [ 4  2  6]\n",
      " [10 -4 18]]\n"
     ]
    }
   ],
   "source": [
    "print(\"A\\n\", A)"
   ]
  },
  {
   "cell_type": "code",
   "execution_count": 4,
   "metadata": {},
   "outputs": [
    {
     "name": "stdout",
     "output_type": "stream",
     "text": [
      "inverse of A\n",
      " [[-0.41666667  0.66666667 -0.08333333]\n",
      " [ 0.08333333  0.16666667 -0.08333333]\n",
      " [ 0.25       -0.33333333  0.08333333]]\n"
     ]
    }
   ],
   "source": [
    "inverse = np.linalg.inv(A)\n",
    "print(\"inverse of A\\n\", inverse)"
   ]
  },
  {
   "cell_type": "code",
   "execution_count": 5,
   "metadata": {},
   "outputs": [
    {
     "name": "stdout",
     "output_type": "stream",
     "text": [
      "Check\n",
      " [[ 1.00000000e+00 -2.22044605e-16  0.00000000e+00]\n",
      " [ 5.55111512e-17  1.00000000e+00  0.00000000e+00]\n",
      " [ 3.88578059e-16 -4.44089210e-16  1.00000000e+00]]\n"
     ]
    }
   ],
   "source": [
    "print(\"Check\\n\", A * inverse)"
   ]
  },
  {
   "cell_type": "code",
   "execution_count": 6,
   "metadata": {},
   "outputs": [
    {
     "name": "stdout",
     "output_type": "stream",
     "text": [
      "Error\n",
      " [[ 0.00000000e+00 -2.22044605e-16  0.00000000e+00]\n",
      " [ 5.55111512e-17 -4.44089210e-16  0.00000000e+00]\n",
      " [ 3.88578059e-16 -4.44089210e-16  0.00000000e+00]]\n"
     ]
    }
   ],
   "source": [
    "print(\"Error\\n\", A * inverse - np.eye(3))"
   ]
  },
  {
   "cell_type": "markdown",
   "metadata": {},
   "source": [
    "## 선형 시스템 해석하기"
   ]
  },
  {
   "cell_type": "code",
   "execution_count": 7,
   "metadata": {},
   "outputs": [
    {
     "name": "stdout",
     "output_type": "stream",
     "text": [
      "A\n",
      " [[ 1 -2  1]\n",
      " [ 0  2 -8]\n",
      " [-4  5  9]]\n",
      "b\n",
      " [ 0  8 -9]\n"
     ]
    }
   ],
   "source": [
    "A = np.mat(\"1 -2 1;0 2 -8;-4 5 9\")\n",
    "print(\"A\\n\", A)\n",
    "b = np.array([0, 8, -9])\n",
    "print(\"b\\n\", b)"
   ]
  },
  {
   "cell_type": "code",
   "execution_count": 8,
   "metadata": {},
   "outputs": [
    {
     "name": "stdout",
     "output_type": "stream",
     "text": [
      "Solution [29. 16.  3.]\n"
     ]
    }
   ],
   "source": [
    "x = np.linalg.solve(A, b)\n",
    "print(\"Solution\", x)"
   ]
  },
  {
   "cell_type": "code",
   "execution_count": 9,
   "metadata": {},
   "outputs": [
    {
     "name": "stdout",
     "output_type": "stream",
     "text": [
      "Check\n",
      " [[ 0.  8. -9.]]\n"
     ]
    }
   ],
   "source": [
    "print(\"Check\\n\", np.dot(A , x))"
   ]
  },
  {
   "cell_type": "markdown",
   "metadata": {},
   "source": [
    "## 고유값과 고유벡터 구하기"
   ]
  },
  {
   "cell_type": "code",
   "execution_count": 10,
   "metadata": {},
   "outputs": [
    {
     "name": "stdout",
     "output_type": "stream",
     "text": [
      "A\n",
      " [[ 3 -2]\n",
      " [ 1  0]]\n",
      "Eigenvalues [2. 1.]\n",
      "First tuple of eig [2. 1.]\n",
      "Second tuple of eig\n",
      " [[0.89442719 0.70710678]\n",
      " [0.4472136  0.70710678]]\n",
      "Left [[1.78885438]\n",
      " [0.89442719]]\n",
      "Right [[1.78885438]\n",
      " [0.89442719]]\n",
      "Left [[0.70710678]\n",
      " [0.70710678]]\n",
      "Right [[0.70710678]\n",
      " [0.70710678]]\n"
     ]
    }
   ],
   "source": [
    "A = np.mat(\"3 -2;1 0\")\n",
    "print(\"A\\n\", A)\n",
    "\n",
    "print(\"Eigenvalues\", np.linalg.eigvals(A))\n",
    "\n",
    "eigenvalues, eigenvectors = np.linalg.eig(A)\n",
    "print(\"First tuple of eig\", eigenvalues)\n",
    "print(\"Second tuple of eig\\n\", eigenvectors)\n",
    "\n",
    "for i in range(len(eigenvalues)):\n",
    "   print(\"Left\", np.dot(A, eigenvectors[:,i]))\n",
    "   print(\"Right\", eigenvalues[i] * eigenvectors[:,i])"
   ]
  },
  {
   "cell_type": "markdown",
   "metadata": {},
   "source": [
    "# 무작위 수"
   ]
  },
  {
   "cell_type": "markdown",
   "metadata": {},
   "source": [
    "## 이항 분포"
   ]
  },
  {
   "cell_type": "code",
   "execution_count": 11,
   "metadata": {},
   "outputs": [
    {
     "name": "stdout",
     "output_type": "stream",
     "text": [
      "0 9\n"
     ]
    },
    {
     "data": {
      "image/png": "[encoded data removed]",
      "text/plain": [
       "<Figure size 432x288 with 1 Axes>"
      ]
     },
     "metadata": {
      "needs_background": "light"
     },
     "output_type": "display_data"
    }
   ],
   "source": [
    "import numpy as np\n",
    "from matplotlib.pyplot import plot, show\n",
    "\n",
    "cash = np.zeros(10000)\n",
    "cash[0] = 1000\n",
    "outcome = np.random.binomial(9, 0.5, size=len(cash))\n",
    "\n",
    "for i in range(1, len(cash)):\n",
    "\n",
    "   if outcome[i] < 5:\n",
    "      cash[i] = cash[i - 1] - 1\n",
    "   elif outcome[i] < 10:\n",
    "      cash[i] = cash[i - 1] + 1\n",
    "   else:\n",
    "      raise AssertionError(\"Unexpected outcome \" + outcome)\n",
    "\n",
    "print(outcome.min(), outcome.max())\n",
    "\n",
    "plot(np.arange(len(cash)), cash)\n",
    "show()"
   ]
  },
  {
   "cell_type": "markdown",
   "metadata": {},
   "source": [
    "## 정규 분포"
   ]
  },
  {
   "cell_type": "code",
   "execution_count": 12,
   "metadata": {},
   "outputs": [
    {
     "name": "stderr",
     "output_type": "stream",
     "text": [
      "C:\\Users\\CPB06GameN\\Anaconda3\\lib\\site-packages\\matplotlib\\axes\\_axes.py:6521: MatplotlibDeprecationWarning: \n",
      "The 'normed' kwarg was deprecated in Matplotlib 2.1 and will be removed in 3.1. Use 'density' instead.\n",
      "  alternative=\"'density'\", removal=\"3.1\")\n"
     ]
    },
    {
     "data": {
      "image/png": "[encoded data removed]",
      "text/plain": [
       "<Figure size 432x288 with 1 Axes>"
      ]
     },
     "metadata": {
      "needs_background": "light"
     },
     "output_type": "display_data"
    }
   ],
   "source": [
    "import numpy as np\n",
    "import matplotlib.pyplot as plt\n",
    "\n",
    "N=10000\n",
    "\n",
    "normal_values = np.random.normal(size=N)\n",
    "dummy, bins, dummy = plt.hist(normal_values, int(np.sqrt(N)), normed=True, lw=1)\n",
    "sigma = 1\n",
    "mu = 0\n",
    "plt.plot(bins, 1/(sigma * np.sqrt(2 * np.pi)) * np.exp( - (bins - mu)**2 / (2 * sigma**2) ),lw=2)\n",
    "plt.show()"
   ]
  },
  {
   "cell_type": "markdown",
   "metadata": {},
   "source": [
    "## SciPy로 정규성 검증"
   ]
  },
  {
   "cell_type": "code",
   "execution_count": 23,
   "metadata": {},
   "outputs": [
    {
     "name": "stdout",
     "output_type": "stream",
     "text": [
      "----------------------------------------------------------------------\n",
      "샤피로 검증\n",
      "Normal Values Shapiro (0.9971199631690979, 0.38350948691368103)\n",
      "Flu Shapiro (0.9351992011070251, 2.2946666759787607e-15)\n",
      "----------------------------------------------------------------------\n",
      "----------------------------------------------------------------------\n",
      "앤더슨 달링 검증\n",
      "Normal Values Anderson AndersonResult(statistic=0.26442851314618565, critical_values=array([0.572, 0.652, 0.782, 0.912, 1.085]), significance_level=array([15. , 10. ,  5. ,  2.5,  1. ]))\n",
      "Flu Anderson AndersonResult(statistic=8.258614154768793, critical_values=array([0.572, 0.652, 0.782, 0.912, 1.085]), significance_level=array([15. , 10. ,  5. ,  2.5,  1. ]))\n",
      "----------------------------------------------------------------------\n",
      "----------------------------------------------------------------------\n",
      "피어슨 검증\n",
      "Normal Values normaltest NormaltestResult(statistic=2.129193627822793, pvalue=0.34486687226569407)\n",
      "Flu normaltest NormaltestResult(statistic=99.64373336356954, pvalue=2.304826411536872e-22)\n",
      "----------------------------------------------------------------------\n"
     ]
    }
   ],
   "source": [
    "import numpy as np\n",
    "from scipy.stats import shapiro\n",
    "from scipy.stats import anderson\n",
    "from scipy.stats import normaltest\n",
    "\n",
    "flutrends = np.loadtxt(\"goog_flutrends.csv\", delimiter=',', usecols=(1,), skiprows=1, converters = {1: lambda s: float(s or 0)}, unpack=True)\n",
    "N = len(flutrends)\n",
    "normal_values = np.random.normal(size=N)\n",
    "zero_values = np.zeros(N)\n",
    "\n",
    "# 샤피로 검증 : p-value가 0.05보다 클때 정규성을 띤다\n",
    "#                              통계량               p-value\n",
    "# Normal Values Shapiro (0.9985182285308838, 0.9054849147796631)\n",
    "# 표본수(n) 2000(5000) 미만인 데이터 셋에 적합\n",
    "\n",
    "print('-'*70)\n",
    "print('샤피로 검증')\n",
    "print(\"Normal Values Shapiro\", shapiro(normal_values))\n",
    "#print(\"Zeroes Shapiro\", shapiro(zero_values))\n",
    "print(\"Flu Shapiro\", shapiro(flutrends))\n",
    "print('-'*70)\n",
    "\n",
    "# 앤더슨 달링 검증 : 통계량이 유의수준에서의 임계값보다 작으면 정규성을 띤다.\n",
    "# 표본수(n) 5만개 이상인 데이터 셋에 가능\n",
    "\n",
    "\n",
    "print('-'*70)\n",
    "print('앤더슨 달링 검증')\n",
    "# 통계량(statistic), 임계량(critical_values)\n",
    "# 유의 수준(significance_level)  ==>  표본에 의한 가설의 검정에서 가설을 잘못하여 기각하는 확률적인 정도 \n",
    "\n",
    "\n",
    "# statistic=0.16613497944672417, \n",
    "# critical_values=array([0.572, 0.652, 0.782, 0.912, 1.085]), \n",
    "# significance_level=array([15. , 10. ,  5. ,  2.5,  1. ])\n",
    "\n",
    "print(\"Normal Values Anderson\", anderson(normal_values))\n",
    "#print(\"Zeroes Anderson\", anderson(zero_values))\n",
    "print(\"Flu Anderson\", anderson(flutrends))\n",
    "print('-'*70)\n",
    "\n",
    "\n",
    "# 피어슨 검증 : 카이제곱 검정\n",
    "# 표본 크기(n)이 1000 이하 \n",
    "# p값이 0.5보다 작을 때 정규성을 띤다\n",
    "print('-'*70)\n",
    "print('피어슨 검증')\n",
    "print(\"Normal Values normaltest\", normaltest(normal_values))\n",
    "#print(\"Zeroes normaltest\", normaltest(zero_values))\n",
    "print(\"Flu normaltest\", normaltest(flutrends))\n",
    "print('-'*70)"
   ]
  },
  {
   "cell_type": "code",
   "execution_count": 31,
   "metadata": {},
   "outputs": [
    {
     "data": {
      "image/png": "[encoded data removed]",
      "text/plain": [
       "<Figure size 432x288 with 1 Axes>"
      ]
     },
     "metadata": {
      "needs_background": "light"
     },
     "output_type": "display_data"
    }
   ],
   "source": [
    "plt.hist(flutrends)\n",
    "# plt.boxplot(flutrends)\n",
    "plt.show()\n",
    "# 중앙값에 제일 많아야 정규성이 있다고 표현할 수 있다."
   ]
  },
  {
   "cell_type": "code",
   "execution_count": 51,
   "metadata": {},
   "outputs": [
    {
     "data": {
      "image/png": "[encoded data removed]",
      "text/plain": [
       "<Figure size 432x288 with 1 Axes>"
      ]
     },
     "metadata": {
      "needs_background": "light"
     },
     "output_type": "display_data"
    }
   ],
   "source": [
    "# 표준화\n",
    "from sklearn.preprocessing import StandardScaler\n",
    "flutrends.shape               \n",
    "data_stand_skl = StandardScaler().fit_transform(flutrends)\n",
    "data_stand_skl\n",
    "data_stand_skl_zoomin =data_stand_skl[data_stand_skl<2.5]\n",
    "# print(data_stand_skl_zoomin)\n",
    "plt.hist(data_stand_skl_zoomin)\n",
    "plt.show()"
   ]
  },
  {
   "cell_type": "code",
   "execution_count": 58,
   "metadata": {
    "scrolled": false
   },
   "outputs": [
    {
     "ename": "ValueError",
     "evalue": "Expected 2D array, got 1D array instead:\narray=[-2.13923494e+00 -2.13923494e+00 -2.13923494e+00 -2.13923494e+00\n -2.13923494e+00 -2.25883129e-01 -9.92642591e-02 -1.55539312e-01\n -2.39951892e-01 -2.54020655e-01 -2.25883129e-01 -2.54020655e-01\n  1.32858473e-02  8.36296638e-02  4.91623800e-01  5.76036379e-01\n  4.77555036e-01  8.01136592e-01  1.22319949e+00  1.25133702e+00\n  1.12471815e+00  1.39202465e+00  1.42016218e+00  1.53271228e+00\n  1.49050599e+00  1.77188126e+00  2.43311314e+00  2.17987540e+00\n  1.22319949e+00  1.08251186e+00  1.16692444e+00  1.02623681e+00\n  6.88586486e-01  5.61967616e-01  1.01216804e+00  8.15205355e-01\n  7.30792776e-01  8.57411645e-01  9.13686699e-01  7.44861539e-01\n  3.08729877e-01  3.65004930e-01  3.65004930e-01  4.49417510e-01\n  1.96179770e-01 -4.29892059e-02 -2.68089419e-01 -4.08777052e-01\n -4.36914578e-01 -6.05739738e-01 -6.90152318e-01 -7.32358608e-01\n -7.60496134e-01 -7.60496134e-01 -7.60496134e-01 -7.04221081e-01\n -7.04221081e-01 -7.04221081e-01 -7.04221081e-01 -5.35395921e-01\n -4.36914578e-01 -6.19808501e-01 -6.33877265e-01 -4.65052105e-01\n -4.08777052e-01 -3.80639525e-01 -2.54020655e-01 -2.54020655e-01\n  1.04030557e+00  6.60448959e-01  6.46380196e-01  1.22319949e+00\n  1.23726825e+00  1.58898734e+00  1.84222508e+00  1.70153744e+00\n  1.70153744e+00  1.67339992e+00  1.43423094e+00  1.20913073e+00\n  7.30792776e-01  9.13686699e-01  3.65004930e-01  5.19761326e-01\n  6.18242669e-01  6.60448959e-01  1.09658062e+00  7.87067829e-01\n  8.99617935e-01  4.91623800e-01  6.46380196e-01  4.49417510e-01\n  1.32858473e-02  4.49417510e-01  5.90105143e-01  2.10248534e-01\n  1.25835954e-01  3.08729877e-01 -2.89204426e-02 -2.96226945e-01\n -5.77602211e-01 -7.32358608e-01 -8.87115004e-01 -1.05594016e+00\n -1.04187140e+00 -9.85596347e-01 -9.01183767e-01 -8.87115004e-01\n -8.16771187e-01 -5.77602211e-01 -7.60496134e-01 -8.16771187e-01\n -7.18289844e-01 -7.74564898e-01 -6.47946028e-01 -2.11814366e-01\n -9.92642591e-02  2.73546106e-02  1.39904717e-01  5.61967616e-01\n  5.19761326e-01  4.35348746e-01  6.60448959e-01  5.76036379e-01\n  7.44861539e-01  6.46380196e-01  6.18242669e-01  6.32311433e-01\n  1.32168083e+00  1.57491857e+00  1.70153744e+00  1.15285567e+00\n  1.19506196e+00  1.05437433e+00  8.15205355e-01  7.02655249e-01\n  7.87067829e-01  1.15285567e+00  9.27755462e-01  5.05692563e-01\n  6.04173906e-01  5.90105143e-01  1.09658062e+00  5.47898853e-01\n  3.08729877e-01  6.74517722e-01  1.82111007e-01  2.38386060e-01\n  1.39904717e-01 -1.48516793e-02 -7.11267325e-02 -2.68089419e-01\n -5.63533448e-01 -7.46427371e-01 -8.16771187e-01 -9.85596347e-01\n -9.15252531e-01 -9.43390057e-01 -8.58977477e-01 -9.71527584e-01\n -6.62014791e-01 -7.74564898e-01 -8.73046241e-01 -8.58977477e-01\n -8.02702424e-01 -6.05739738e-01 -4.50983342e-01 -4.36914578e-01\n -1.27401786e-01  2.38386060e-01 -3.10295709e-01 -7.82916002e-04\n  1.96179770e-01  4.63486273e-01  2.80592350e-01  4.35348746e-01\n  7.44861539e-01  7.72999066e-01  8.29274119e-01  9.41824225e-01\n  9.98099278e-01  1.27947454e+00  1.12471815e+00  1.53271228e+00\n  1.68746868e+00  1.40609341e+00  8.85549172e-01  1.20913073e+00\n  1.06844309e+00  1.37795589e+00  1.67339992e+00  1.15285567e+00\n  1.15285567e+00  1.12471815e+00  1.05437433e+00  6.74517722e-01\n  5.47898853e-01  4.21279983e-01  2.10248534e-01  3.08729877e-01\n  1.11767190e-01  3.93142456e-01  1.82111007e-01 -1.55539312e-01\n -6.05739738e-01 -6.05739738e-01 -8.30839951e-01 -9.15252531e-01\n -1.01373387e+00 -9.85596347e-01 -8.16771187e-01 -7.32358608e-01\n -6.47946028e-01 -6.19808501e-01 -6.76083554e-01 -5.77602211e-01\n -7.04221081e-01 -7.60496134e-01 -4.79120868e-01 -3.80639525e-01\n -2.96226945e-01 -3.24364472e-01 -1.97745602e-01  8.36296638e-02\n  3.93142456e-01  4.21279983e-01  9.41824225e-01  1.58898734e+00\n  2.34870056e+00  1.87036260e+00  1.98291271e+00  1.89850013e+00\n  1.46236847e+00  1.64526239e+00  1.22319949e+00  5.05692563e-01\n  3.22798640e-01  5.47898853e-01  3.93142456e-01  2.66523587e-01\n  1.39904717e-01  2.66523587e-01  3.08729877e-01  1.82111007e-01\n -7.82916002e-04 -4.29892059e-02 -1.13333022e-01 -4.08777052e-01\n -6.19808501e-01 -7.88633661e-01 -8.58977477e-01 -1.04187140e+00\n -8.30839951e-01 -8.87115004e-01 -8.30839951e-01 -8.87115004e-01\n -8.87115004e-01 -8.58977477e-01 -7.74564898e-01 -7.60496134e-01\n -8.44908714e-01 -3.66570762e-01 -1.48516793e-02 -9.92642591e-02\n -2.89204426e-02  1.25835954e-01  3.08729877e-01  5.05692563e-01\n  2.94661113e-01  4.77555036e-01  6.32311433e-01  8.15205355e-01\n  9.13686699e-01  1.60305610e+00  2.34870056e+00  1.53271228e+00\n  8.99617935e-01  6.88586486e-01  9.55892989e-01  8.15205355e-01\n  7.58930302e-01  5.76036379e-01  5.47898853e-01  5.19761326e-01\n  5.33830089e-01  3.79073693e-01  4.21279983e-01  6.95609005e-02\n  1.39904717e-01  2.73546106e-02  2.73546106e-02 -1.97745602e-01\n -2.68089419e-01 -5.63533448e-01 -7.04221081e-01 -7.04221081e-01\n -7.04221081e-01 -9.57458821e-01 -8.87115004e-01 -7.60496134e-01\n -9.01183767e-01 -8.73046241e-01 -8.87115004e-01 -9.01183767e-01\n -9.29321294e-01 -9.57458821e-01 -8.58977477e-01 -8.87115004e-01\n -7.60496134e-01 -4.65052105e-01 -4.79120868e-01 -5.49464685e-01\n -4.93189632e-01 -3.24364472e-01 -1.97745602e-01  2.73546106e-02\n  1.96179770e-01  1.68042244e-01  1.96179770e-01  5.33830089e-01\n  1.12471815e+00  2.19394416e+00  2.41904437e+00  1.20913073e+00\n  8.36296638e-02  2.52454823e-01  1.32858473e-02 -4.29892059e-02\n  9.76984271e-02  1.96179770e-01 -2.89204426e-02 -1.13333022e-01\n -9.92642591e-02 -9.92642591e-02 -4.29892059e-02 -1.41470549e-01\n -1.13333022e-01 -1.55539312e-01 -1.55539312e-01 -3.80639525e-01\n -4.08777052e-01 -4.93189632e-01 -7.74564898e-01 -9.01183767e-01\n -9.71527584e-01 -9.15252531e-01 -1.25290285e+00 -1.23883409e+00\n -1.26697161e+00 -1.26697161e+00 -1.19662780e+00 -1.19662780e+00\n -1.22476532e+00 -1.15442151e+00 -1.18255903e+00 -1.14035274e+00\n -1.15442151e+00 -1.14035274e+00 -8.44908714e-01 -7.60496134e-01\n -8.02702424e-01 -6.05739738e-01 -5.35395921e-01 -3.52501999e-01\n -1.41470549e-01 -2.54020655e-01  1.53973480e-01  3.93142456e-01\n  4.77555036e-01  4.77555036e-01  6.18242669e-01  8.15205355e-01\n  7.72999066e-01  8.29274119e-01  4.91623800e-01  6.74517722e-01\n  4.63486273e-01  5.61967616e-01  3.22798640e-01  5.90105143e-01\n  4.91623800e-01  4.07211220e-01  1.82111007e-01  1.32858473e-02\n -1.27401786e-01 -1.97745602e-01 -2.89204426e-02  4.14233739e-02\n -8.51954958e-02  2.73546106e-02 -9.92642591e-02 -4.29892059e-02\n -2.68089419e-01 -1.83676839e-01 -3.94708288e-01 -6.47946028e-01\n -8.58977477e-01 -8.73046241e-01 -1.14035274e+00 -1.15442151e+00\n -1.19662780e+00 -1.25290285e+00 -1.26697161e+00 -1.22476532e+00\n -1.19662780e+00 -1.19662780e+00 -1.19662780e+00 -1.26697161e+00\n -1.26697161e+00 -1.28104038e+00 -1.05594016e+00 -8.87115004e-01\n -6.76083554e-01 -6.47946028e-01 -6.33877265e-01 -7.46427371e-01\n -5.21327158e-01 -4.50983342e-01 -3.66570762e-01 -2.54020655e-01\n -2.11814366e-01  2.73546106e-02  1.39904717e-01  2.94661113e-01\n  1.11767190e-01  3.79073693e-01  5.33830089e-01  5.19761326e-01\n  1.82111007e-01 -8.51954958e-02 -1.13333022e-01 -1.69608076e-01\n -2.54020655e-01 -7.82916002e-04 -7.11267325e-02 -9.92642591e-02\n -5.07258395e-01 -7.32358608e-01 -8.02702424e-01 -9.01183767e-01\n -9.99665110e-01 -8.87115004e-01 -8.58977477e-01 -8.44908714e-01\n -9.43390057e-01 -9.43390057e-01 -1.05594016e+00 -1.18255903e+00\n -1.26697161e+00 -1.26697161e+00 -1.35138419e+00 -1.33731543e+00\n -1.32324667e+00 -1.36545296e+00 -1.35138419e+00 -1.33731543e+00\n -1.35138419e+00 -1.35138419e+00 -1.37952172e+00 -1.33731543e+00\n -1.25290285e+00 -1.23883409e+00 -1.12628398e+00 -1.02780264e+00\n -8.44908714e-01 -9.29321294e-01 -7.88633661e-01 -8.30839951e-01\n -7.60496134e-01 -6.19808501e-01 -4.36914578e-01 -2.82158182e-01\n -1.27401786e-01  1.11767190e-01  4.49417510e-01  6.74517722e-01\n  5.47898853e-01  6.32311433e-01  2.66523587e-01  1.96179770e-01\n -7.82916002e-04  6.95609005e-02 -5.70579692e-02 -1.13333022e-01\n -7.11267325e-02  9.76984271e-02  2.24317297e-01  1.96179770e-01\n  3.22798640e-01  1.68042244e-01  1.25835954e-01 -7.11267325e-02\n -1.55539312e-01 -2.82158182e-01 -4.22845815e-01 -4.79120868e-01\n -7.04221081e-01 -6.62014791e-01 -7.60496134e-01 -8.30839951e-01\n -9.57458821e-01 -1.02780264e+00 -1.07000893e+00 -1.08407769e+00\n -1.05594016e+00 -1.15442151e+00 -1.12628398e+00 -1.14035274e+00\n -1.16849027e+00 -1.04187140e+00 -1.05594016e+00 -1.08407769e+00\n -1.04187140e+00 -1.07000893e+00 -9.57458821e-01 -6.33877265e-01\n -5.49464685e-01 -8.16771187e-01 -6.90152318e-01 -6.47946028e-01\n -6.62014791e-01 -8.02702424e-01 -6.05739738e-01 -3.38433235e-01\n  5.54921372e-02  3.93142456e-01  7.72999066e-01  9.27755462e-01\n  9.69961752e-01  1.20913073e+00  1.12471815e+00  8.99617935e-01\n  5.47898853e-01  4.91623800e-01  2.94661113e-01  1.68042244e-01\n  2.52454823e-01  3.93142456e-01  4.77555036e-01  3.65004930e-01\n -7.11267325e-02 -3.80639525e-01 -3.10295709e-01 -2.25883129e-01\n -3.38433235e-01 -5.49464685e-01 -6.47946028e-01 -7.60496134e-01\n -7.46427371e-01 -7.60496134e-01 -8.30839951e-01 -9.01183767e-01\n -9.99665110e-01 -1.08407769e+00 -1.16849027e+00 -1.19662780e+00\n -1.16849027e+00 -1.15442151e+00 -1.07000893e+00 -1.12628398e+00\n -1.01373387e+00 -1.07000893e+00 -1.15442151e+00 -1.14035274e+00\n -1.04187140e+00 -9.85596347e-01 -8.58977477e-01 -6.76083554e-01\n -4.79120868e-01 -6.33877265e-01 -7.18289844e-01 -5.91670975e-01\n -3.80639525e-01 -4.08777052e-01 -1.97745602e-01].\nReshape your data either using array.reshape(-1, 1) if your data has a single feature or array.reshape(1, -1) if it contains a single sample.",
     "output_type": "error",
     "traceback": [
      "\u001b[1;31m---------------------------------------------------------------------------\u001b[0m",
      "\u001b[1;31mValueError\u001b[0m                                Traceback (most recent call last)",
      "\u001b[1;32m<ipython-input-58-123e581d0b1d>\u001b[0m in \u001b[0;36m<module>\u001b[1;34m\u001b[0m\n\u001b[0;32m      2\u001b[0m \u001b[1;32mfrom\u001b[0m \u001b[0msklearn\u001b[0m\u001b[1;33m.\u001b[0m\u001b[0mpreprocessing\u001b[0m \u001b[1;32mimport\u001b[0m \u001b[0mMinMaxScaler\u001b[0m\u001b[1;33m\u001b[0m\u001b[1;33m\u001b[0m\u001b[0m\n\u001b[0;32m      3\u001b[0m \u001b[0mflutrends\u001b[0m \u001b[1;33m=\u001b[0m \u001b[0mflutrends\u001b[0m\u001b[1;33m.\u001b[0m\u001b[0mreshape\u001b[0m\u001b[1;33m(\u001b[0m\u001b[1;33m-\u001b[0m\u001b[1;36m1\u001b[0m\u001b[1;33m,\u001b[0m\u001b[1;36m1\u001b[0m\u001b[1;33m)\u001b[0m\u001b[1;33m\u001b[0m\u001b[1;33m\u001b[0m\u001b[0m\n\u001b[1;32m----> 4\u001b[1;33m \u001b[0mdata_minmax_sklearn\u001b[0m \u001b[1;33m=\u001b[0m \u001b[0mMinMaxScaler\u001b[0m\u001b[1;33m(\u001b[0m\u001b[1;33m)\u001b[0m\u001b[1;33m.\u001b[0m\u001b[0mfit_transform\u001b[0m\u001b[1;33m(\u001b[0m\u001b[0mdata_stand_skl_zoomin\u001b[0m\u001b[1;33m)\u001b[0m\u001b[1;33m\u001b[0m\u001b[1;33m\u001b[0m\u001b[0m\n\u001b[0m\u001b[0;32m      5\u001b[0m \u001b[0mplt\u001b[0m\u001b[1;33m.\u001b[0m\u001b[0mhist\u001b[0m\u001b[1;33m(\u001b[0m\u001b[0mdata_minmax_sklearn\u001b[0m\u001b[1;33m)\u001b[0m\u001b[1;33m\u001b[0m\u001b[1;33m\u001b[0m\u001b[0m\n\u001b[0;32m      6\u001b[0m \u001b[1;31m# plt.show\u001b[0m\u001b[1;33m\u001b[0m\u001b[1;33m\u001b[0m\u001b[1;33m\u001b[0m\u001b[0m\n",
      "\u001b[1;32m~\\Anaconda3\\lib\\site-packages\\sklearn\\base.py\u001b[0m in \u001b[0;36mfit_transform\u001b[1;34m(self, X, y, **fit_params)\u001b[0m\n\u001b[0;32m    462\u001b[0m         \u001b[1;32mif\u001b[0m \u001b[0my\u001b[0m \u001b[1;32mis\u001b[0m \u001b[1;32mNone\u001b[0m\u001b[1;33m:\u001b[0m\u001b[1;33m\u001b[0m\u001b[1;33m\u001b[0m\u001b[0m\n\u001b[0;32m    463\u001b[0m             \u001b[1;31m# fit method of arity 1 (unsupervised transformation)\u001b[0m\u001b[1;33m\u001b[0m\u001b[1;33m\u001b[0m\u001b[1;33m\u001b[0m\u001b[0m\n\u001b[1;32m--> 464\u001b[1;33m             \u001b[1;32mreturn\u001b[0m \u001b[0mself\u001b[0m\u001b[1;33m.\u001b[0m\u001b[0mfit\u001b[0m\u001b[1;33m(\u001b[0m\u001b[0mX\u001b[0m\u001b[1;33m,\u001b[0m \u001b[1;33m**\u001b[0m\u001b[0mfit_params\u001b[0m\u001b[1;33m)\u001b[0m\u001b[1;33m.\u001b[0m\u001b[0mtransform\u001b[0m\u001b[1;33m(\u001b[0m\u001b[0mX\u001b[0m\u001b[1;33m)\u001b[0m\u001b[1;33m\u001b[0m\u001b[1;33m\u001b[0m\u001b[0m\n\u001b[0m\u001b[0;32m    465\u001b[0m         \u001b[1;32melse\u001b[0m\u001b[1;33m:\u001b[0m\u001b[1;33m\u001b[0m\u001b[1;33m\u001b[0m\u001b[0m\n\u001b[0;32m    466\u001b[0m             \u001b[1;31m# fit method of arity 2 (supervised transformation)\u001b[0m\u001b[1;33m\u001b[0m\u001b[1;33m\u001b[0m\u001b[1;33m\u001b[0m\u001b[0m\n",
      "\u001b[1;32m~\\Anaconda3\\lib\\site-packages\\sklearn\\preprocessing\\data.py\u001b[0m in \u001b[0;36mfit\u001b[1;34m(self, X, y)\u001b[0m\n\u001b[0;32m    332\u001b[0m         \u001b[1;31m# Reset internal state before fitting\u001b[0m\u001b[1;33m\u001b[0m\u001b[1;33m\u001b[0m\u001b[1;33m\u001b[0m\u001b[0m\n\u001b[0;32m    333\u001b[0m         \u001b[0mself\u001b[0m\u001b[1;33m.\u001b[0m\u001b[0m_reset\u001b[0m\u001b[1;33m(\u001b[0m\u001b[1;33m)\u001b[0m\u001b[1;33m\u001b[0m\u001b[1;33m\u001b[0m\u001b[0m\n\u001b[1;32m--> 334\u001b[1;33m         \u001b[1;32mreturn\u001b[0m \u001b[0mself\u001b[0m\u001b[1;33m.\u001b[0m\u001b[0mpartial_fit\u001b[0m\u001b[1;33m(\u001b[0m\u001b[0mX\u001b[0m\u001b[1;33m,\u001b[0m \u001b[0my\u001b[0m\u001b[1;33m)\u001b[0m\u001b[1;33m\u001b[0m\u001b[1;33m\u001b[0m\u001b[0m\n\u001b[0m\u001b[0;32m    335\u001b[0m \u001b[1;33m\u001b[0m\u001b[0m\n\u001b[0;32m    336\u001b[0m     \u001b[1;32mdef\u001b[0m \u001b[0mpartial_fit\u001b[0m\u001b[1;33m(\u001b[0m\u001b[0mself\u001b[0m\u001b[1;33m,\u001b[0m \u001b[0mX\u001b[0m\u001b[1;33m,\u001b[0m \u001b[0my\u001b[0m\u001b[1;33m=\u001b[0m\u001b[1;32mNone\u001b[0m\u001b[1;33m)\u001b[0m\u001b[1;33m:\u001b[0m\u001b[1;33m\u001b[0m\u001b[1;33m\u001b[0m\u001b[0m\n",
      "\u001b[1;32m~\\Anaconda3\\lib\\site-packages\\sklearn\\preprocessing\\data.py\u001b[0m in \u001b[0;36mpartial_fit\u001b[1;34m(self, X, y)\u001b[0m\n\u001b[0;32m    360\u001b[0m         X = check_array(X, copy=self.copy, warn_on_dtype=True,\n\u001b[0;32m    361\u001b[0m                         \u001b[0mestimator\u001b[0m\u001b[1;33m=\u001b[0m\u001b[0mself\u001b[0m\u001b[1;33m,\u001b[0m \u001b[0mdtype\u001b[0m\u001b[1;33m=\u001b[0m\u001b[0mFLOAT_DTYPES\u001b[0m\u001b[1;33m,\u001b[0m\u001b[1;33m\u001b[0m\u001b[1;33m\u001b[0m\u001b[0m\n\u001b[1;32m--> 362\u001b[1;33m                         force_all_finite=\"allow-nan\")\n\u001b[0m\u001b[0;32m    363\u001b[0m \u001b[1;33m\u001b[0m\u001b[0m\n\u001b[0;32m    364\u001b[0m         \u001b[0mdata_min\u001b[0m \u001b[1;33m=\u001b[0m \u001b[0mnp\u001b[0m\u001b[1;33m.\u001b[0m\u001b[0mnanmin\u001b[0m\u001b[1;33m(\u001b[0m\u001b[0mX\u001b[0m\u001b[1;33m,\u001b[0m \u001b[0maxis\u001b[0m\u001b[1;33m=\u001b[0m\u001b[1;36m0\u001b[0m\u001b[1;33m)\u001b[0m\u001b[1;33m\u001b[0m\u001b[1;33m\u001b[0m\u001b[0m\n",
      "\u001b[1;32m~\\Anaconda3\\lib\\site-packages\\sklearn\\utils\\validation.py\u001b[0m in \u001b[0;36mcheck_array\u001b[1;34m(array, accept_sparse, accept_large_sparse, dtype, order, copy, force_all_finite, ensure_2d, allow_nd, ensure_min_samples, ensure_min_features, warn_on_dtype, estimator)\u001b[0m\n\u001b[0;32m    550\u001b[0m                     \u001b[1;34m\"Reshape your data either using array.reshape(-1, 1) if \"\u001b[0m\u001b[1;33m\u001b[0m\u001b[1;33m\u001b[0m\u001b[0m\n\u001b[0;32m    551\u001b[0m                     \u001b[1;34m\"your data has a single feature or array.reshape(1, -1) \"\u001b[0m\u001b[1;33m\u001b[0m\u001b[1;33m\u001b[0m\u001b[0m\n\u001b[1;32m--> 552\u001b[1;33m                     \"if it contains a single sample.\".format(array))\n\u001b[0m\u001b[0;32m    553\u001b[0m \u001b[1;33m\u001b[0m\u001b[0m\n\u001b[0;32m    554\u001b[0m         \u001b[1;31m# in the future np.flexible dtypes will be handled like object dtypes\u001b[0m\u001b[1;33m\u001b[0m\u001b[1;33m\u001b[0m\u001b[1;33m\u001b[0m\u001b[0m\n",
      "\u001b[1;31mValueError\u001b[0m: Expected 2D array, got 1D array instead:\narray=[-2.13923494e+00 -2.13923494e+00 -2.13923494e+00 -2.13923494e+00\n -2.13923494e+00 -2.25883129e-01 -9.92642591e-02 -1.55539312e-01\n -2.39951892e-01 -2.54020655e-01 -2.25883129e-01 -2.54020655e-01\n  1.32858473e-02  8.36296638e-02  4.91623800e-01  5.76036379e-01\n  4.77555036e-01  8.01136592e-01  1.22319949e+00  1.25133702e+00\n  1.12471815e+00  1.39202465e+00  1.42016218e+00  1.53271228e+00\n  1.49050599e+00  1.77188126e+00  2.43311314e+00  2.17987540e+00\n  1.22319949e+00  1.08251186e+00  1.16692444e+00  1.02623681e+00\n  6.88586486e-01  5.61967616e-01  1.01216804e+00  8.15205355e-01\n  7.30792776e-01  8.57411645e-01  9.13686699e-01  7.44861539e-01\n  3.08729877e-01  3.65004930e-01  3.65004930e-01  4.49417510e-01\n  1.96179770e-01 -4.29892059e-02 -2.68089419e-01 -4.08777052e-01\n -4.36914578e-01 -6.05739738e-01 -6.90152318e-01 -7.32358608e-01\n -7.60496134e-01 -7.60496134e-01 -7.60496134e-01 -7.04221081e-01\n -7.04221081e-01 -7.04221081e-01 -7.04221081e-01 -5.35395921e-01\n -4.36914578e-01 -6.19808501e-01 -6.33877265e-01 -4.65052105e-01\n -4.08777052e-01 -3.80639525e-01 -2.54020655e-01 -2.54020655e-01\n  1.04030557e+00  6.60448959e-01  6.46380196e-01  1.22319949e+00\n  1.23726825e+00  1.58898734e+00  1.84222508e+00  1.70153744e+00\n  1.70153744e+00  1.67339992e+00  1.43423094e+00  1.20913073e+00\n  7.30792776e-01  9.13686699e-01  3.65004930e-01  5.19761326e-01\n  6.18242669e-01  6.60448959e-01  1.09658062e+00  7.87067829e-01\n  8.99617935e-01  4.91623800e-01  6.46380196e-01  4.49417510e-01\n  1.32858473e-02  4.49417510e-01  5.90105143e-01  2.10248534e-01\n  1.25835954e-01  3.08729877e-01 -2.89204426e-02 -2.96226945e-01\n -5.77602211e-01 -7.32358608e-01 -8.87115004e-01 -1.05594016e+00\n -1.04187140e+00 -9.85596347e-01 -9.01183767e-01 -8.87115004e-01\n -8.16771187e-01 -5.77602211e-01 -7.60496134e-01 -8.16771187e-01\n -7.18289844e-01 -7.74564898e-01 -6.47946028e-01 -2.11814366e-01\n -9.92642591e-02  2.73546106e-02  1.39904717e-01  5.61967616e-01\n  5.19761326e-01  4.35348746e-01  6.60448959e-01  5.76036379e-01\n  7.44861539e-01  6.46380196e-01  6.18242669e-01  6.32311433e-01\n  1.32168083e+00  1.57491857e+00  1.70153744e+00  1.15285567e+00\n  1.19506196e+00  1.05437433e+00  8.15205355e-01  7.02655249e-01\n  7.87067829e-01  1.15285567e+00  9.27755462e-01  5.05692563e-01\n  6.04173906e-01  5.90105143e-01  1.09658062e+00  5.47898853e-01\n  3.08729877e-01  6.74517722e-01  1.82111007e-01  2.38386060e-01\n  1.39904717e-01 -1.48516793e-02 -7.11267325e-02 -2.68089419e-01\n -5.63533448e-01 -7.46427371e-01 -8.16771187e-01 -9.85596347e-01\n -9.15252531e-01 -9.43390057e-01 -8.58977477e-01 -9.71527584e-01\n -6.62014791e-01 -7.74564898e-01 -8.73046241e-01 -8.58977477e-01\n -8.02702424e-01 -6.05739738e-01 -4.50983342e-01 -4.36914578e-01\n -1.27401786e-01  2.38386060e-01 -3.10295709e-01 -7.82916002e-04\n  1.96179770e-01  4.63486273e-01  2.80592350e-01  4.35348746e-01\n  7.44861539e-01  7.72999066e-01  8.29274119e-01  9.41824225e-01\n  9.98099278e-01  1.27947454e+00  1.12471815e+00  1.53271228e+00\n  1.68746868e+00  1.40609341e+00  8.85549172e-01  1.20913073e+00\n  1.06844309e+00  1.37795589e+00  1.67339992e+00  1.15285567e+00\n  1.15285567e+00  1.12471815e+00  1.05437433e+00  6.74517722e-01\n  5.47898853e-01  4.21279983e-01  2.10248534e-01  3.08729877e-01\n  1.11767190e-01  3.93142456e-01  1.82111007e-01 -1.55539312e-01\n -6.05739738e-01 -6.05739738e-01 -8.30839951e-01 -9.15252531e-01\n -1.01373387e+00 -9.85596347e-01 -8.16771187e-01 -7.32358608e-01\n -6.47946028e-01 -6.19808501e-01 -6.76083554e-01 -5.77602211e-01\n -7.04221081e-01 -7.60496134e-01 -4.79120868e-01 -3.80639525e-01\n -2.96226945e-01 -3.24364472e-01 -1.97745602e-01  8.36296638e-02\n  3.93142456e-01  4.21279983e-01  9.41824225e-01  1.58898734e+00\n  2.34870056e+00  1.87036260e+00  1.98291271e+00  1.89850013e+00\n  1.46236847e+00  1.64526239e+00  1.22319949e+00  5.05692563e-01\n  3.22798640e-01  5.47898853e-01  3.93142456e-01  2.66523587e-01\n  1.39904717e-01  2.66523587e-01  3.08729877e-01  1.82111007e-01\n -7.82916002e-04 -4.29892059e-02 -1.13333022e-01 -4.08777052e-01\n -6.19808501e-01 -7.88633661e-01 -8.58977477e-01 -1.04187140e+00\n -8.30839951e-01 -8.87115004e-01 -8.30839951e-01 -8.87115004e-01\n -8.87115004e-01 -8.58977477e-01 -7.74564898e-01 -7.60496134e-01\n -8.44908714e-01 -3.66570762e-01 -1.48516793e-02 -9.92642591e-02\n -2.89204426e-02  1.25835954e-01  3.08729877e-01  5.05692563e-01\n  2.94661113e-01  4.77555036e-01  6.32311433e-01  8.15205355e-01\n  9.13686699e-01  1.60305610e+00  2.34870056e+00  1.53271228e+00\n  8.99617935e-01  6.88586486e-01  9.55892989e-01  8.15205355e-01\n  7.58930302e-01  5.76036379e-01  5.47898853e-01  5.19761326e-01\n  5.33830089e-01  3.79073693e-01  4.21279983e-01  6.95609005e-02\n  1.39904717e-01  2.73546106e-02  2.73546106e-02 -1.97745602e-01\n -2.68089419e-01 -5.63533448e-01 -7.04221081e-01 -7.04221081e-01\n -7.04221081e-01 -9.57458821e-01 -8.87115004e-01 -7.60496134e-01\n -9.01183767e-01 -8.73046241e-01 -8.87115004e-01 -9.01183767e-01\n -9.29321294e-01 -9.57458821e-01 -8.58977477e-01 -8.87115004e-01\n -7.60496134e-01 -4.65052105e-01 -4.79120868e-01 -5.49464685e-01\n -4.93189632e-01 -3.24364472e-01 -1.97745602e-01  2.73546106e-02\n  1.96179770e-01  1.68042244e-01  1.96179770e-01  5.33830089e-01\n  1.12471815e+00  2.19394416e+00  2.41904437e+00  1.20913073e+00\n  8.36296638e-02  2.52454823e-01  1.32858473e-02 -4.29892059e-02\n  9.76984271e-02  1.96179770e-01 -2.89204426e-02 -1.13333022e-01\n -9.92642591e-02 -9.92642591e-02 -4.29892059e-02 -1.41470549e-01\n -1.13333022e-01 -1.55539312e-01 -1.55539312e-01 -3.80639525e-01\n -4.08777052e-01 -4.93189632e-01 -7.74564898e-01 -9.01183767e-01\n -9.71527584e-01 -9.15252531e-01 -1.25290285e+00 -1.23883409e+00\n -1.26697161e+00 -1.26697161e+00 -1.19662780e+00 -1.19662780e+00\n -1.22476532e+00 -1.15442151e+00 -1.18255903e+00 -1.14035274e+00\n -1.15442151e+00 -1.14035274e+00 -8.44908714e-01 -7.60496134e-01\n -8.02702424e-01 -6.05739738e-01 -5.35395921e-01 -3.52501999e-01\n -1.41470549e-01 -2.54020655e-01  1.53973480e-01  3.93142456e-01\n  4.77555036e-01  4.77555036e-01  6.18242669e-01  8.15205355e-01\n  7.72999066e-01  8.29274119e-01  4.91623800e-01  6.74517722e-01\n  4.63486273e-01  5.61967616e-01  3.22798640e-01  5.90105143e-01\n  4.91623800e-01  4.07211220e-01  1.82111007e-01  1.32858473e-02\n -1.27401786e-01 -1.97745602e-01 -2.89204426e-02  4.14233739e-02\n -8.51954958e-02  2.73546106e-02 -9.92642591e-02 -4.29892059e-02\n -2.68089419e-01 -1.83676839e-01 -3.94708288e-01 -6.47946028e-01\n -8.58977477e-01 -8.73046241e-01 -1.14035274e+00 -1.15442151e+00\n -1.19662780e+00 -1.25290285e+00 -1.26697161e+00 -1.22476532e+00\n -1.19662780e+00 -1.19662780e+00 -1.19662780e+00 -1.26697161e+00\n -1.26697161e+00 -1.28104038e+00 -1.05594016e+00 -8.87115004e-01\n -6.76083554e-01 -6.47946028e-01 -6.33877265e-01 -7.46427371e-01\n -5.21327158e-01 -4.50983342e-01 -3.66570762e-01 -2.54020655e-01\n -2.11814366e-01  2.73546106e-02  1.39904717e-01  2.94661113e-01\n  1.11767190e-01  3.79073693e-01  5.33830089e-01  5.19761326e-01\n  1.82111007e-01 -8.51954958e-02 -1.13333022e-01 -1.69608076e-01\n -2.54020655e-01 -7.82916002e-04 -7.11267325e-02 -9.92642591e-02\n -5.07258395e-01 -7.32358608e-01 -8.02702424e-01 -9.01183767e-01\n -9.99665110e-01 -8.87115004e-01 -8.58977477e-01 -8.44908714e-01\n -9.43390057e-01 -9.43390057e-01 -1.05594016e+00 -1.18255903e+00\n -1.26697161e+00 -1.26697161e+00 -1.35138419e+00 -1.33731543e+00\n -1.32324667e+00 -1.36545296e+00 -1.35138419e+00 -1.33731543e+00\n -1.35138419e+00 -1.35138419e+00 -1.37952172e+00 -1.33731543e+00\n -1.25290285e+00 -1.23883409e+00 -1.12628398e+00 -1.02780264e+00\n -8.44908714e-01 -9.29321294e-01 -7.88633661e-01 -8.30839951e-01\n -7.60496134e-01 -6.19808501e-01 -4.36914578e-01 -2.82158182e-01\n -1.27401786e-01  1.11767190e-01  4.49417510e-01  6.74517722e-01\n  5.47898853e-01  6.32311433e-01  2.66523587e-01  1.96179770e-01\n -7.82916002e-04  6.95609005e-02 -5.70579692e-02 -1.13333022e-01\n -7.11267325e-02  9.76984271e-02  2.24317297e-01  1.96179770e-01\n  3.22798640e-01  1.68042244e-01  1.25835954e-01 -7.11267325e-02\n -1.55539312e-01 -2.82158182e-01 -4.22845815e-01 -4.79120868e-01\n -7.04221081e-01 -6.62014791e-01 -7.60496134e-01 -8.30839951e-01\n -9.57458821e-01 -1.02780264e+00 -1.07000893e+00 -1.08407769e+00\n -1.05594016e+00 -1.15442151e+00 -1.12628398e+00 -1.14035274e+00\n -1.16849027e+00 -1.04187140e+00 -1.05594016e+00 -1.08407769e+00\n -1.04187140e+00 -1.07000893e+00 -9.57458821e-01 -6.33877265e-01\n -5.49464685e-01 -8.16771187e-01 -6.90152318e-01 -6.47946028e-01\n -6.62014791e-01 -8.02702424e-01 -6.05739738e-01 -3.38433235e-01\n  5.54921372e-02  3.93142456e-01  7.72999066e-01  9.27755462e-01\n  9.69961752e-01  1.20913073e+00  1.12471815e+00  8.99617935e-01\n  5.47898853e-01  4.91623800e-01  2.94661113e-01  1.68042244e-01\n  2.52454823e-01  3.93142456e-01  4.77555036e-01  3.65004930e-01\n -7.11267325e-02 -3.80639525e-01 -3.10295709e-01 -2.25883129e-01\n -3.38433235e-01 -5.49464685e-01 -6.47946028e-01 -7.60496134e-01\n -7.46427371e-01 -7.60496134e-01 -8.30839951e-01 -9.01183767e-01\n -9.99665110e-01 -1.08407769e+00 -1.16849027e+00 -1.19662780e+00\n -1.16849027e+00 -1.15442151e+00 -1.07000893e+00 -1.12628398e+00\n -1.01373387e+00 -1.07000893e+00 -1.15442151e+00 -1.14035274e+00\n -1.04187140e+00 -9.85596347e-01 -8.58977477e-01 -6.76083554e-01\n -4.79120868e-01 -6.33877265e-01 -7.18289844e-01 -5.91670975e-01\n -3.80639525e-01 -4.08777052e-01 -1.97745602e-01].\nReshape your data either using array.reshape(-1, 1) if your data has a single feature or array.reshape(1, -1) if it contains a single sample."
     ]
    }
   ],
   "source": [
    "# 정규화 \n",
    "from sklearn.preprocessing import MinMaxScaler\n",
    "flutrends = flutrends.reshape(-1,1)\n",
    "data_minmax_sklearn = MinMaxScaler().fit_transform(data_stand_skl_zoomin)\n",
    "plt.hist(data_minmax_sklearn)\n",
    "# plt.show\n",
    "\n",
    "data_minmax_sklearn = data_minmax_sklearn.reshape(-1,)\n",
    "# print(\"Flu Anderson\", anderson(data_minmax_sklearn))"
   ]
  },
  {
   "cell_type": "markdown",
   "metadata": {},
   "source": [
    "# Numpy 마스킹 배열"
   ]
  },
  {
   "cell_type": "code",
   "execution_count": null,
   "metadata": {
    "scrolled": false
   },
   "outputs": [],
   "source": [
    "import numpy\n",
    "import scipy\n",
    "import matplotlib.pyplot as plt\n",
    "\n",
    "face = scipy.misc.face()\n",
    "\n",
    "random_mask = numpy.random.randint(0, 2, size=face.shape)\n",
    "\n",
    "plt.subplot(221)\n",
    "plt.title(\"Original\")\n",
    "plt.imshow(face)\n",
    "plt.axis('off')\n",
    "\n",
    "masked_array = numpy.ma.array(face, mask=random_mask)\n",
    "\n",
    "plt.subplot(222)\n",
    "plt.title(\"Masked\")\n",
    "plt.imshow(masked_array)\n",
    "plt.axis('off')\n",
    "\n",
    "plt.subplot(223)\n",
    "plt.title(\"Log\")\n",
    "plt.imshow(numpy.ma.log(face).astype(\"float32\"))\n",
    "plt.axis('off')\n",
    "\n",
    "\n",
    "plt.subplot(224)\n",
    "plt.title(\"Log Masked\")\n",
    "plt.imshow(numpy.ma.log(masked_array).astype(\"float32\"))\n",
    "plt.axis('off')\n",
    "\n",
    "plt.show()"
   ]
  },
  {
   "cell_type": "markdown",
   "metadata": {},
   "source": [
    "# 음수와 극단적인 값 제거하기"
   ]
  },
  {
   "cell_type": "code",
   "execution_count": null,
   "metadata": {},
   "outputs": [],
   "source": [
    "import numpy as np\n",
    "from datetime import date\n",
    "import sys\n",
    "import matplotlib.pyplot as plt\n",
    "\n",
    "salary = np.loadtxt(\"MLB2008.csv\", delimiter=',', usecols=(1,), skiprows=1, unpack=True)\n",
    "triples = np.arange(0, len(salary), 3)\n",
    "print(\"Triples\", triples[:10], \"...\")\n",
    "\n",
    "signs = np.ones(len(salary))\n",
    "print(\"Signs\", signs[:10], \"...\")\n",
    "\n",
    "signs[triples] = -1\n",
    "print(\"Signs\", signs[:10], \"...\")\n",
    "\n",
    "ma_log = np.ma.log(salary * signs)\n",
    "print(\"Masked logs\", ma_log[:10], \"...\")\n",
    "\n",
    "dev = salary.std()\n",
    "avg = salary.mean()\n",
    "inside = np.ma.masked_outside(salary, avg - dev, avg + dev)\n",
    "print(\"Inside\", inside[:10], \"...\")\n",
    "\n",
    "plt.subplot(311)\n",
    "plt.title(\"Original\")\n",
    "plt.plot(salary)\n",
    "\n",
    "plt.subplot(312)\n",
    "plt.title(\"Log Masked\")\n",
    "plt.plot(np.exp(ma_log))\n",
    "\n",
    "plt.subplot(313)\n",
    "plt.title(\"Not Extreme\")\n",
    "plt.plot(inside)\n",
    "\n",
    "plt.subplots_adjust(hspace=.9)\n",
    "\n",
    "plt.show()"
   ]
  },
  {
   "cell_type": "code",
   "execution_count": null,
   "metadata": {
    "collapsed": true
   },
   "outputs": [],
   "source": []
  }
 ],
 "metadata": {
  "kernelspec": {
   "display_name": "Python 3",
   "language": "python",
   "name": "python3"
  },
  "language_info": {
   "codemirror_mode": {
    "name": "ipython",
    "version": 3
   },
   "file_extension": ".py",
   "mimetype": "text/x-python",
   "name": "python",
   "nbconvert_exporter": "python",
   "pygments_lexer": "ipython3",
   "version": "3.7.3"
  }
 },
 "nbformat": 4,
 "nbformat_minor": 1
}
