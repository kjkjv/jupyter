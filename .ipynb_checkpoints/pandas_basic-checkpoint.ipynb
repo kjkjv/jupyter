{
 "cells": [
  {
   "cell_type": "markdown",
   "metadata": {},
   "source": [
    "03장 pandas 기본"
   ]
  },
  {
   "cell_type": "markdown",
   "metadata": {},
   "source": [
    "Dataframe 객체 : 2차원 배열\n",
   ]
  },
  {
   "cell_type": "code",
   "execution_count": 21,
   "metadata": {},
   "outputs": [
    {
     "name": "stdout",
     "output_type": "stream",
     "text": [
      "   0  1  2\n",
      "0  1  2  3\n",
      "1  4  5  6\n",
      "2  7  8  9\n"
     ]
    }
   ],
   "source": [
    "import pandas as pd\n",
    "# from pandas.io.parser import read_csv  이것도 가능하다\n",
    "df = pd.DataFrame([[1,2,3],[4,5,6],[7,8,9]])\n",
    "print(df)\n",
    "# 컬럼네임, 인덱스 네임"
   ]
  },
  {
   "cell_type": "code",
   "execution_count": 73,
   "metadata": {},
   "outputs": [
    {
     "name": "stdout",
     "output_type": "stream",
     "text": [
      "  이름  국어점수  영어점수  수학점수\n",
      "0  a    50    10    20\n",
      "1  b    60    20    30\n",
      "2  c    70    30    40\n",
      "3  d    80    40    10\n",
      "4  e    90    50    30\n"
     ]
    },
    {
     "data": {
      "text/html": [
       "<div>\n",
       "<style scoped>\n",
       "    .dataframe tbody tr th:only-of-type {\n",
       "        vertical-align: middle;\n",
       "    }\n",
       "\n",
       "    .dataframe tbody tr th {\n",
       "        vertical-align: top;\n",
       "    }\n",
       "\n",
       "    .dataframe thead th {\n",
       "        text-align: right;\n",
       "    }\n",
       "</style>\n",
       "<table border=\"1\" class=\"dataframe\">\n",
       "  <thead>\n",
       "    <tr style=\"text-align: right;\">\n",
       "      <th></th>\n",
       "      <th>이름</th>\n",
       "      <th>국어점수</th>\n",
       "      <th>영어점수</th>\n",
       "      <th>수학점수</th>\n",
       "    </tr>\n",
       "  </thead>\n",
       "  <tbody>\n",
       "    <tr>\n",
       "      <th>0</th>\n",
       "      <td>a</td>\n",
       "      <td>50</td>\n",
       "      <td>10</td>\n",
       "      <td>20</td>\n",
       "    </tr>\n",
       "    <tr>\n",
       "      <th>1</th>\n",
       "      <td>b</td>\n",
       "      <td>60</td>\n",
       "      <td>20</td>\n",
       "      <td>30</td>\n",
       "    </tr>\n",
       "    <tr>\n",
       "      <th>2</th>\n",
       "      <td>c</td>\n",
       "      <td>70</td>\n",
       "      <td>30</td>\n",
       "      <td>40</td>\n",
       "    </tr>\n",
       "    <tr>\n",
       "      <th>3</th>\n",
       "      <td>d</td>\n",
       "      <td>80</td>\n",
       "      <td>40</td>\n",
       "      <td>10</td>\n",
       "    </tr>\n",
       "    <tr>\n",
       "      <th>4</th>\n",
       "      <td>e</td>\n",
       "      <td>90</td>\n",
       "      <td>50</td>\n",
       "      <td>30</td>\n",
       "    </tr>\n",
       "  </tbody>\n",
       "</table>\n",
       "</div>"
      ],
      "text/plain": [
       "  이름  국어점수  영어점수  수학점수\n",
       "0  a    50    10    20\n",
       "1  b    60    20    30\n",
       "2  c    70    30    40\n",
       "3  d    80    40    10\n",
       "4  e    90    50    30"
      ]
     },
     "execution_count": 73,
     "metadata": {},
     "output_type": "execute_result"
    }
   ],
   "source": [
    "score_table = {'이름' : ['a','b','c','d','e'],\n",
    "              '국어점수' : [50,60,70,80,90],\n",
    "              '영어점수' : [10,20,30,40,50],\n",
    "              '수학점수' : [20,30,40,10,30]}\n",
    "df = pd.DataFrame(score_table)\n",
    "print(df)\n",
    "df       # 그냥 df가 더 깔끔하게 나온다"
   ]
  },
  {
   "cell_type": "code",
   "execution_count": 13,
   "metadata": {},
   "outputs": [
    {
     "data": {
      "text/plain": [
       "RangeIndex(start=0, stop=5, step=1)"
      ]
     },
     "execution_count": 13,
     "metadata": {},
     "output_type": "execute_result"
    }
   ],
   "source": [
    "df.index"
   ]
  },
  {
   "cell_type": "code",
   "execution_count": 16,
   "metadata": {},
   "outputs": [
    {
     "data": {
      "text/plain": [
       "Index(['이름', '국어점수', '영어점수', '수학점수'], dtype='object')"
      ]
     },
     "execution_count": 16,
     "metadata": {},
     "output_type": "execute_result"
    }
   ],
   "source": [
    "df.columns"
   ]
  },
  {
   "cell_type": "code",
   "execution_count": 17,
   "metadata": {},
   "outputs": [
    {
     "data": {
      "text/plain": [
       "array([['a', 50, 10, 20],\n",
       "       ['b', 60, 20, 30],\n",
       "       ['c', 70, 30, 40],\n",
       "       ['d', 80, 40, 10],\n",
       "       ['e', 90, 50, 30]], dtype=object)"
      ]
     },
     "execution_count": 17,
     "metadata": {},
     "output_type": "execute_result"
    }
   ],
   "source": [
    "df.values"
   ]
  },
  {
   "cell_type": "markdown",
   "metadata": {},
   "source": [
    "pandas로 csv 파일 읽어 오기\n",
    " - pd.read_csv('파일명') \n",
    " - df.to_csv('파일명')"
   ]
  },
  {
   "cell_type": "code",
   "execution_count": 40,
   "metadata": {},
   "outputs": [],
   "source": [
    "df = pd.read_csv('WHO_first9cols.csv')\n",
    "# df"
   ]
  },
  {
   "cell_type": "code",
   "execution_count": 31,
   "metadata": {},
   "outputs": [],
   "source": [
    "# 교재에 없는 저장 방법('이름 설정')\n",
    "df.to_csv('세계보건기구9개의컬럼.csv',index=False)"
   ]
  },
  {
   "cell_type": "markdown",
   "metadata": {},
   "source": [
    " - pandas. 은 불러오기\n",
    " - df. 은 저장(인덱스 포함 저장. index=False라고 적어주면 없어진다)"
   ]
  },
  {
   "cell_type": "markdown",
   "metadata": {},
   "source": [
    "데이터 프레임 분석 : 속성  _ 2차원이 대부분 "
   ]
  },
  {
   "cell_type": "code",
   "execution_count": 39,
   "metadata": {},
   "outputs": [
    {
     "name": "stdout",
     "output_type": "stream",
     "text": [
      "shape: (202, 9)\n",
      "len: 202\n",
      "header: Index(['Country', 'CountryID', 'Continent', 'Adolescent fertility rate (%)',\n",
      "       'Adult literacy rate (%)',\n",
      "       'Gross national income per capita (PPP international $)',\n",
      "       'Net primary school enrolment ratio female (%)',\n",
      "       'Net primary school enrolment ratio male (%)',\n",
      "       'Population (in thousands) total'],\n",
      "      dtype='object')\n",
      "index: RangeIndex(start=0, stop=202, step=1)\n",
      "values: [['Afghanistan' 1 1 ... nan nan 26088.0]\n",
      " ['Albania' 2 2 ... 93.0 94.0 3172.0]\n",
      " ['Algeria' 3 3 ... 94.0 96.0 33351.0]\n",
      " ...\n",
      " ['Yemen' 200 1 ... 65.0 85.0 21732.0]\n",
      " ['Zambia' 201 3 ... 94.0 90.0 11696.0]\n",
      " ['Zimbabwe' 202 3 ... 88.0 87.0 13228.0]]\n"
     ]
    }
   ],
   "source": [
    "print('shape:',df.shape)\n",
    "print('len:', len(df))               # 행의 갯수를 출력\n",
    "print('header:', df.columns)         # ★중요\n",
    "df.columns[0]                        # 원하는 정보 인덱싱이 가능\n",
    "\n",
    "print('index:', df.index)            # 행의 인덱스 값\n",
    "print('values:',df.values)"
   ]
  },
  {
   "cell_type": "markdown",
   "metadata": {},
   "source": [
    "Dataframe을 행(row)으로 접근 "
   ]
  },
  {
   "cell_type": "code",
   "execution_count": 71,
   "metadata": {},
   "outputs": [
    {
     "data": {
      "text/html": [
       "<div>\n",
       "<style scoped>\n",
       "    .dataframe tbody tr th:only-of-type {\n",
       "        vertical-align: middle;\n",
       "    }\n",
       "\n",
       "    .dataframe tbody tr th {\n",
       "        vertical-align: top;\n",
       "    }\n",
       "\n",
       "    .dataframe thead th {\n",
       "        text-align: right;\n",
       "    }\n",
       "</style>\n",
       "<table border=\"1\" class=\"dataframe\">\n",
       "  <thead>\n",
       "    <tr style=\"text-align: right;\">\n",
       "      <th></th>\n",
       "      <th>Country</th>\n",
       "      <th>CountryID</th>\n",
       "      <th>Continent</th>\n",
       "      <th>Adolescent fertility rate (%)</th>\n",
       "      <th>Adult literacy rate (%)</th>\n",
       "      <th>Gross national income per capita (PPP international $)</th>\n",
       "      <th>Net primary school enrolment ratio female (%)</th>\n",
       "      <th>Net primary school enrolment ratio male (%)</th>\n",
       "      <th>Population (in thousands) total</th>\n",
       "    </tr>\n",
       "  </thead>\n",
       "  <tbody>\n",
       "    <tr>\n",
       "      <th>0</th>\n",
       "      <td>Afghanistan</td>\n",
       "      <td>1</td>\n",
       "      <td>1</td>\n",
       "      <td>151.0</td>\n",
       "      <td>28.0</td>\n",
       "      <td>NaN</td>\n",
       "      <td>NaN</td>\n",
       "      <td>NaN</td>\n",
       "      <td>26088.0</td>\n",
       "    </tr>\n",
       "  </tbody>\n",
       "</table>\n",
       "</div>"
      ],
      "text/plain": [
       "       Country  CountryID  Continent  Adolescent fertility rate (%)  \\\n",
       "0  Afghanistan          1          1                          151.0   \n",
       "\n",
       "   Adult literacy rate (%)  \\\n",
       "0                     28.0   \n",
       "\n",
       "   Gross national income per capita (PPP international $)  \\\n",
       "0                                                NaN        \n",
       "\n",
       "   Net primary school enrolment ratio female (%)  \\\n",
       "0                                            NaN   \n",
       "\n",
       "   Net primary school enrolment ratio male (%)  \\\n",
       "0                                          NaN   \n",
       "\n",
       "   Population (in thousands) total  \n",
       "0                          26088.0  "
      ]
     },
     "execution_count": 71,
     "metadata": {},
     "output_type": "execute_result"
    }
   ],
   "source": [
    "# df[start 행번호 :end 행번호 :step]\n",
    "df[:1]\n",
    "df[11:16]\n",
    "df[::3]     # 3개씩 step\n",
    "df[::-1]    # 역순으로 출력\n",
    "# 슬라이싱처럼 사용\n",
    "df[:1]"
   ]
  },
  {
   "cell_type": "markdown",
   "metadata": {},
   "source": [
    "Dataframe을 열(colunms)으로 접근 "
   ]
  },
  {
   "cell_type": "code",
   "execution_count": 70,
   "metadata": {},
   "outputs": [],
   "source": [
    "# len(df.columns)     # 9개의 열 \n",
    "# df['Country']       # 컬럼 네임을 집어 넣으면 값이 나온다\n",
    "# df[df.columns[0]]   # 같은 결과\n",
    "# df[df.columns[-1]]\n",
    "# print(df[df.columns[-1]])"
   ]
  },
  {
   "cell_type": "markdown",
   "metadata": {},
   "source": [
    "Series 객체 : 1차원 배열, DataFrame내의 1개의 컬럼"
   ]
  },
  {
   "cell_type": "code",
   "execution_count": 57,
   "metadata": {},
   "outputs": [
    {
     "data": {
      "text/plain": [
       "'Afghanistan'"
      ]
     },
     "execution_count": 57,
     "metadata": {},
     "output_type": "execute_result"
    }
   ],
   "source": [
    "type(df)                # pandas.core.frame.DataFrame\n",
    "sr = df['Country']\n",
    "type(sr)                # pandas.core.series.Series\n",
    "sr = df[df.columns[0]]\n",
    "type(sr)                # pandas.core.series.Series"
   ]
  },
  {
   "cell_type": "code",
   "execution_count": 67,
   "metadata": {},
   "outputs": [
    {
     "data": {
      "text/plain": [
       "'Afghanistan'"
      ]
     },
     "execution_count": 67,
     "metadata": {},
     "output_type": "execute_result"
    }
   ],
   "source": [
    "sr = df[df.columns[0]][0]\n",
    "sr                           # 'Afghanistan'\n",
    "sr = df[df.columns[0]][:4]\n",
    "sr \n",
    "sr = df[df.columns[0]][-1:] \n",
    "sr                           # 201    Zimbabwe, 마지막 요소 접근\n",
    "sr = df[df.columns[0]][::-1] \n",
    "sr                           # 거꾸로~ㅎ\n",
    "sr = df[df.columns[0]][0]\n",
    "sr  "
   ]
  },
  {
   "cell_type": "code",
   "execution_count": 78,
   "metadata": {},
   "outputs": [
    {
     "data": {
      "text/plain": [
       "pandas.core.frame.DataFrame"
      ]
     },
     "execution_count": 78,
     "metadata": {},
     "output_type": "execute_result"
    }
   ],
   "source": [
    "r = df[['Country','CountryID','Continent']]\n",
    "# 요런 것도 가능, 대괄호 두번 치면 원하는 컬럼만 뽑는다.\n",
    "# 컬럼 하나만 추출하면 시리즈, 두 개 이상이면 데이터프레임\n",
    "type(r)   #  pandas.core.frame.DataFrame"
   ]
  },
  {
   "cell_type": "code",
   "execution_count": 81,
   "metadata": {},
   "outputs": [
    {
     "data": {
      "text/plain": [
       "pandas.core.frame.DataFrame"
      ]
     },
     "execution_count": 81,
     "metadata": {},
     "output_type": "execute_result"
    }
   ],
   "source": [
    "r = df[[df.columns[0],df.columns[1],df.columns[2]]]\n",
    "r\n",
    "type(r)\n",
    "# 요렇게도 가능. 위랑 똑같은 결과"
   ]
  },
  {
   "cell_type": "code",
   "execution_count": 82,
   "metadata": {},
   "outputs": [
    {
     "data": {
      "text/html": [
       "<div>\n",
       "<style scoped>\n",
       "    .dataframe tbody tr th:only-of-type {\n",
       "        vertical-align: middle;\n",
       "    }\n",
       "\n",
       "    .dataframe tbody tr th {\n",
       "        vertical-align: top;\n",
       "    }\n",
       "\n",
       "    .dataframe thead th {\n",
       "        text-align: right;\n",
       "    }\n",
       "</style>\n",
       "<table border=\"1\" class=\"dataframe\">\n",
       "  <thead>\n",
       "    <tr style=\"text-align: right;\">\n",
       "      <th></th>\n",
       "      <th>Country</th>\n",
       "      <th>CountryID</th>\n",
       "      <th>Continent</th>\n",
       "    </tr>\n",
       "  </thead>\n",
       "  <tbody>\n",
       "    <tr>\n",
       "      <th>0</th>\n",
       "      <td>Afghanistan</td>\n",
       "      <td>1</td>\n",
       "      <td>1</td>\n",
       "    </tr>\n",
       "    <tr>\n",
       "      <th>1</th>\n",
       "      <td>Albania</td>\n",
       "      <td>2</td>\n",
       "      <td>2</td>\n",
       "    </tr>\n",
       "    <tr>\n",
       "      <th>2</th>\n",
       "      <td>Algeria</td>\n",
       "      <td>3</td>\n",
       "      <td>3</td>\n",
       "    </tr>\n",
       "    <tr>\n",
       "      <th>3</th>\n",
       "      <td>Andorra</td>\n",
       "      <td>4</td>\n",
       "      <td>2</td>\n",
       "    </tr>\n",
       "    <tr>\n",
       "      <th>4</th>\n",
       "      <td>Angola</td>\n",
       "      <td>5</td>\n",
       "      <td>3</td>\n",
       "    </tr>\n",
       "    <tr>\n",
       "      <th>5</th>\n",
       "      <td>Antigua and Barbuda</td>\n",
       "      <td>6</td>\n",
       "      <td>4</td>\n",
       "    </tr>\n",
       "    <tr>\n",
       "      <th>6</th>\n",
       "      <td>Argentina</td>\n",
       "      <td>7</td>\n",
       "      <td>5</td>\n",
       "    </tr>\n",
       "    <tr>\n",
       "      <th>7</th>\n",
       "      <td>Armenia</td>\n",
       "      <td>8</td>\n",
       "      <td>2</td>\n",
       "    </tr>\n",
       "    <tr>\n",
       "      <th>8</th>\n",
       "      <td>Australia</td>\n",
       "      <td>9</td>\n",
       "      <td>6</td>\n",
       "    </tr>\n",
       "    <tr>\n",
       "      <th>9</th>\n",
       "      <td>Austria</td>\n",
       "      <td>10</td>\n",
       "      <td>2</td>\n",
       "    </tr>\n",
       "  </tbody>\n",
       "</table>\n",
       "</div>"
      ],
      "text/plain": [
       "               Country  CountryID  Continent\n",
       "0          Afghanistan          1          1\n",
       "1              Albania          2          2\n",
       "2              Algeria          3          3\n",
       "3              Andorra          4          2\n",
       "4               Angola          5          3\n",
       "5  Antigua and Barbuda          6          4\n",
       "6            Argentina          7          5\n",
       "7              Armenia          8          2\n",
       "8            Australia          9          6\n",
       "9              Austria         10          2"
      ]
     },
     "execution_count": 82,
     "metadata": {},
     "output_type": "execute_result"
    }
   ],
   "source": [
    "r2 = df[[df.columns[0],df.columns[1],df.columns[2]]][:10]\n",
    "r2\n",
    "# 10개만 보고 싶다. 샘플링 가능"
   ]
  },
  {
   "cell_type": "markdown",
   "metadata": {},
   "source": [
    "DataFrame의 스칼라 값(원소) 접근하기 : 읽기 및 수정\n",
    "\n",
    "- (1) df.loc[행,열] : 명시적인 index\n",
    "- (2) df.iloc[행,열] : 암묵적인 index(파이썬 스타일), int형 사용, 0부터 시작"
   ]
  },
  {
   "cell_type": "code",
   "execution_count": 90,
   "metadata": {},
   "outputs": [
    {
     "data": {
      "text/html": [
       "<div>\n",
       "<style scoped>\n",
       "    .dataframe tbody tr th:only-of-type {\n",
       "        vertical-align: middle;\n",
       "    }\n",
       "\n",
       "    .dataframe tbody tr th {\n",
       "        vertical-align: top;\n",
       "    }\n",
       "\n",
       "    .dataframe thead th {\n",
       "        text-align: right;\n",
       "    }\n",
       "</style>\n",
       "<table border=\"1\" class=\"dataframe\">\n",
       "  <thead>\n",
       "    <tr style=\"text-align: right;\">\n",
       "      <th></th>\n",
       "      <th>Country</th>\n",
       "      <th>CountryID</th>\n",
       "      <th>Continent</th>\n",
       "    </tr>\n",
       "  </thead>\n",
       "  <tbody>\n",
       "    <tr>\n",
       "      <th>0</th>\n",
       "      <td>Afghanistan</td>\n",
       "      <td>1</td>\n",
       "      <td>1</td>\n",
       "    </tr>\n",
       "    <tr>\n",
       "      <th>1</th>\n",
       "      <td>Albania</td>\n",
       "      <td>2</td>\n",
       "      <td>2</td>\n",
       "    </tr>\n",
       "    <tr>\n",
       "      <th>2</th>\n",
       "      <td>Algeria</td>\n",
       "      <td>3</td>\n",
       "      <td>3</td>\n",
       "    </tr>\n",
       "    <tr>\n",
       "      <th>3</th>\n",
       "      <td>Andorra</td>\n",
       "      <td>4</td>\n",
       "      <td>2</td>\n",
       "    </tr>\n",
       "  </tbody>\n",
       "</table>\n",
       "</div>"
      ],
      "text/plain": [
       "       Country  CountryID  Continent\n",
       "0  Afghanistan          1          1\n",
       "1      Albania          2          2\n",
       "2      Algeria          3          3\n",
       "3      Andorra          4          2"
      ]
     },
     "execution_count": 90,
     "metadata": {},
     "output_type": "execute_result"
    }
   ],
   "source": [
    "df.loc[78,'Country']         # 하나만 가능\n",
    "df.loc[:3,'Country']         # 범위 지정 가능\n",
    "df.loc[:3,['Country','CountryID', 'Continent']]   # 열도 범위 지정 가능"
   ]
  },
  {
   "cell_type": "code",
   "execution_count": 100,
   "metadata": {},
   "outputs": [
    {
     "name": "stdout",
     "output_type": "stream",
     "text": [
      "Afghanistan <class 'str'>\n",
      "3 <class 'numpy.int64'>\n",
      "Country      Algeria\n",
      "CountryID          3\n",
      "Continent          3\n",
      "Name: 2, dtype: object <class 'pandas.core.series.Series'>\n",
      "       Country  CountryID  Continent\n",
      "0  Afghanistan          1          1\n",
      "1      Albania          2          2\n",
      "2      Algeria          3          3 <class 'pandas.core.frame.DataFrame'>\n",
      "jae kwang\n"
     ]
    }
   ],
   "source": [
    "# df.iloc[]\n",
    "\n",
    "data = df.iloc[0,0]\n",
    "print(data, type(data))\n",
    "# Afghanistan <class 'str'>\n",
    "\n",
    "data = df.iloc[2,2]\n",
    "print(data, type(data))\n",
    "# 3 <class 'numpy.int64'>\n",
    "\n",
    "data = df.iloc[2,[0,1,2]]\n",
    "print(data, type(data))\n",
    "# <class 'pandas.core.series.Series'>\n",
    "\n",
    "data = df.iloc[:3,[0,1,2]]\n",
    "print(data, type(data))\n",
    "# <class 'pandas.core.frame.DataFrame'>\n",
    "\n",
    "df.iloc[3,0] = 'jae kwang'    # 스칼라값 변경(메모리 값이 바뀐 것이지 원본이 바뀐 것으 아니다.)\n",
    "data = df.iloc[3,0]\n",
    "print(data)\n",
    "\n",
    "df.iloc[-1,0]           # 마지막을 추출하기\n",
    "df.iloc[0,-1]  "
   ]
  },
  {
   "cell_type": "markdown",
   "metadata": {},
   "source": [
    "# 태양 흑점 (sunspot) 데이터"
   ]
  },
  {
   "cell_type": "markdown",
   "metadata": {},
   "source": [
    "Quandl 패키지 설치 방법\n",
    " - window 메뉴에서 'Anaconda Prompt'를 관리자 권한으로 실행하고 \n",
    " - 명령창에서 conda install quandl 실행"
   ]
  },
  {
   "cell_type": "code",
   "execution_count": 3,
   "metadata": {},
   "outputs": [],
   "source": [
    "import quandl\n",
    "sunspots = quandl.get('SIDC/SUNSPOTS_A')"
   ]
  },
  {
   "cell_type": "code",
   "execution_count": 118,
   "metadata": {},
   "outputs": [
    {
     "data": {
      "text/plain": [
       "pandas.core.frame.DataFrame"
      ]
     },
     "execution_count": 118,
     "metadata": {},
     "output_type": "execute_result"
    }
   ],
   "source": [
    "type(sunspots)"
   ]
  },
  {
   "cell_type": "code",
   "execution_count": 4,
   "metadata": {},
   "outputs": [],
   "source": [
    "sunspots.to_csv('sunspots.csv',float_format = '%.2f',na_rep='NaN')"
   ]
  },
  {
   "cell_type": "code",
   "execution_count": 129,
   "metadata": {},
   "outputs": [
    {
     "data": {
      "text/html": [
       "<div>\n",
       "<style scoped>\n",
       "    .dataframe tbody tr th:only-of-type {\n",
       "        vertical-align: middle;\n",
       "    }\n",
       "\n",
       "    .dataframe tbody tr th {\n",
       "        vertical-align: top;\n",
       "    }\n",
       "\n",
       "    .dataframe thead th {\n",
       "        text-align: right;\n",
       "    }\n",
       "</style>\n",
       "<table border=\"1\" class=\"dataframe\">\n",
       "  <thead>\n",
       "    <tr style=\"text-align: right;\">\n",
       "      <th></th>\n",
       "      <th>Date</th>\n",
       "      <th>Yearly Mean Total Sunspot Number</th>\n",
       "      <th>Yearly Mean Standard Deviation</th>\n",
       "      <th>Number of Observations</th>\n",
       "      <th>Definitive/Provisional Indicator</th>\n",
       "    </tr>\n",
       "  </thead>\n",
       "  <tbody>\n",
       "    <tr>\n",
       "      <th>2</th>\n",
       "      <td>1702-12-31</td>\n",
       "      <td>26.7</td>\n",
       "      <td>NaN</td>\n",
       "      <td>NaN</td>\n",
       "      <td>1.0</td>\n",
       "    </tr>\n",
       "    <tr>\n",
       "      <th>4</th>\n",
       "      <td>1704-12-31</td>\n",
       "      <td>60.0</td>\n",
       "      <td>NaN</td>\n",
       "      <td>NaN</td>\n",
       "      <td>1.0</td>\n",
       "    </tr>\n",
       "    <tr>\n",
       "      <th>315</th>\n",
       "      <td>2015-12-31</td>\n",
       "      <td>69.8</td>\n",
       "      <td>6.4</td>\n",
       "      <td>8903.0</td>\n",
       "      <td>1.0</td>\n",
       "    </tr>\n",
       "    <tr>\n",
       "      <th>317</th>\n",
       "      <td>2017-12-31</td>\n",
       "      <td>21.7</td>\n",
       "      <td>2.5</td>\n",
       "      <td>11444.0</td>\n",
       "      <td>1.0</td>\n",
       "    </tr>\n",
       "  </tbody>\n",
       "</table>\n",
       "</div>"
      ],
      "text/plain": [
       "           Date  Yearly Mean Total Sunspot Number  \\\n",
       "2    1702-12-31                              26.7   \n",
       "4    1704-12-31                              60.0   \n",
       "315  2015-12-31                              69.8   \n",
       "317  2017-12-31                              21.7   \n",
       "\n",
       "     Yearly Mean Standard Deviation  Number of Observations  \\\n",
       "2                               NaN                     NaN   \n",
       "4                               NaN                     NaN   \n",
       "315                             6.4                  8903.0   \n",
       "317                             2.5                 11444.0   \n",
       "\n",
       "     Definitive/Provisional Indicator  \n",
       "2                                 1.0  \n",
       "4                                 1.0  \n",
       "315                               1.0  \n",
       "317                               1.0  "
      ]
     },
     "execution_count": 129,
     "metadata": {},
     "output_type": "execute_result"
    }
   ],
   "source": [
    "sunspots = pd.read_csv('sunspots.csv')\n",
    "sunspots.shape       # (319, 5)\n",
    "sunspots.iloc[[2,4,-4,-2]]      # 열을 선택안해서 다 선택하는 것으로 행으로만 접근."
   ]
  },
  {
   "cell_type": "markdown",
   "metadata": {},
   "source": [
    "# 데이터프레임과 통계메소드"
   ]
  },
  {
   "cell_type": "code",
   "execution_count": 130,
   "metadata": {},
   "outputs": [
    {
     "data": {
      "text/html": [
       "<div>\n",
       "<style scoped>\n",
       "    .dataframe tbody tr th:only-of-type {\n",
       "        vertical-align: middle;\n",
       "    }\n",
       "\n",
       "    .dataframe tbody tr th {\n",
       "        vertical-align: top;\n",
       "    }\n",
       "\n",
       "    .dataframe thead th {\n",
       "        text-align: right;\n",
       "    }\n",
       "</style>\n",
       "<table border=\"1\" class=\"dataframe\">\n",
       "  <thead>\n",
       "    <tr style=\"text-align: right;\">\n",
       "      <th></th>\n",
       "      <th>Yearly Mean Total Sunspot Number</th>\n",
       "      <th>Yearly Mean Standard Deviation</th>\n",
       "      <th>Number of Observations</th>\n",
       "      <th>Definitive/Provisional Indicator</th>\n",
       "    </tr>\n",
       "  </thead>\n",
       "  <tbody>\n",
       "    <tr>\n",
       "      <th>count</th>\n",
       "      <td>319.000000</td>\n",
       "      <td>201.000000</td>\n",
       "      <td>201.000000</td>\n",
       "      <td>319.0</td>\n",
       "    </tr>\n",
       "    <tr>\n",
       "      <th>mean</th>\n",
       "      <td>78.970533</td>\n",
       "      <td>7.947761</td>\n",
       "      <td>1572.751244</td>\n",
       "      <td>1.0</td>\n",
       "    </tr>\n",
       "    <tr>\n",
       "      <th>std</th>\n",
       "      <td>62.019871</td>\n",
       "      <td>3.840522</td>\n",
       "      <td>2667.888556</td>\n",
       "      <td>0.0</td>\n",
       "    </tr>\n",
       "    <tr>\n",
       "      <th>min</th>\n",
       "      <td>0.000000</td>\n",
       "      <td>1.100000</td>\n",
       "      <td>150.000000</td>\n",
       "      <td>1.0</td>\n",
       "    </tr>\n",
       "    <tr>\n",
       "      <th>25%</th>\n",
       "      <td>24.800000</td>\n",
       "      <td>4.700000</td>\n",
       "      <td>365.000000</td>\n",
       "      <td>1.0</td>\n",
       "    </tr>\n",
       "    <tr>\n",
       "      <th>50%</th>\n",
       "      <td>65.800000</td>\n",
       "      <td>7.600000</td>\n",
       "      <td>365.000000</td>\n",
       "      <td>1.0</td>\n",
       "    </tr>\n",
       "    <tr>\n",
       "      <th>75%</th>\n",
       "      <td>115.750000</td>\n",
       "      <td>10.400000</td>\n",
       "      <td>366.000000</td>\n",
       "      <td>1.0</td>\n",
       "    </tr>\n",
       "    <tr>\n",
       "      <th>max</th>\n",
       "      <td>269.300000</td>\n",
       "      <td>19.100000</td>\n",
       "      <td>12611.000000</td>\n",
       "      <td>1.0</td>\n",
       "    </tr>\n",
       "  </tbody>\n",
       "</table>\n",
       "</div>"
      ],
      "text/plain": [
       "       Yearly Mean Total Sunspot Number  Yearly Mean Standard Deviation  \\\n",
       "count                        319.000000                      201.000000   \n",
       "mean                          78.970533                        7.947761   \n",
       "std                           62.019871                        3.840522   \n",
       "min                            0.000000                        1.100000   \n",
       "25%                           24.800000                        4.700000   \n",
       "50%                           65.800000                        7.600000   \n",
       "75%                          115.750000                       10.400000   \n",
       "max                          269.300000                       19.100000   \n",
       "\n",
       "       Number of Observations  Definitive/Provisional Indicator  \n",
       "count              201.000000                             319.0  \n",
       "mean              1572.751244                               1.0  \n",
       "std               2667.888556                               0.0  \n",
       "min                150.000000                               1.0  \n",
       "25%                365.000000                               1.0  \n",
       "50%                365.000000                               1.0  \n",
       "75%                366.000000                               1.0  \n",
       "max              12611.000000                               1.0  "
      ]
     },
     "execution_count": 130,
     "metadata": {},
     "output_type": "execute_result"
    }
   ],
   "source": [
    "sunspots.describe() # 통계요약"
   ]
  },
  {
   "cell_type": "code",
   "execution_count": 133,
   "metadata": {},
   "outputs": [
    {
     "data": {
      "text/plain": [
       "Date                                319\n",
       "Yearly Mean Total Sunspot Number    319\n",
       "Yearly Mean Standard Deviation      201\n",
       "Number of Observations              201\n",
       "Definitive/Provisional Indicator    319\n",
       "dtype: int64"
      ]
     },
     "execution_count": 133,
     "metadata": {},
     "output_type": "execute_result"
    }
   ],
   "source": [
    "sunspots.count()     # NaN이 아닌 값의 갯수 "
   ]
  },
  {
   "cell_type": "code",
   "execution_count": 134,
   "metadata": {},
   "outputs": [
    {
     "data": {
      "text/plain": [
       "Yearly Mean Total Sunspot Number      50.954279\n",
       "Yearly Mean Standard Deviation         3.155848\n",
       "Number of Observations              1990.750773\n",
       "Definitive/Provisional Indicator       0.000000\n",
       "dtype: float64"
      ]
     },
     "execution_count": 134,
     "metadata": {},
     "output_type": "execute_result"
    }
   ],
   "source": [
    "sunspots.mad()    # mean absolute deviation, 평균 절대 편차 "
   ]
  },
  {
   "cell_type": "code",
   "execution_count": 135,
   "metadata": {},
   "outputs": [
    {
     "data": {
      "text/plain": [
       "Yearly Mean Total Sunspot Number      62.019871\n",
       "Yearly Mean Standard Deviation         3.840522\n",
       "Number of Observations              2667.888556\n",
       "Definitive/Provisional Indicator       0.000000\n",
       "dtype: float64"
      ]
     },
     "execution_count": 135,
     "metadata": {},
     "output_type": "execute_result"
    }
   ],
   "source": [
    "sunspots.std()    # standard deviation, 표준편차"
   ]
  },
  {
   "cell_type": "code",
   "execution_count": 136,
   "metadata": {},
   "outputs": [
    {
     "data": {
      "text/plain": [
       "Yearly Mean Total Sunspot Number     65.8\n",
       "Yearly Mean Standard Deviation        7.6\n",
       "Number of Observations              365.0\n",
       "Definitive/Provisional Indicator      1.0\n",
       "dtype: float64"
      ]
     },
     "execution_count": 136,
     "metadata": {},
     "output_type": "execute_result"
    }
   ],
   "source": [
    "sunspots.median()   # 중앙값, 2분위수"
   ]
  },
  {
   "cell_type": "code",
   "execution_count": 138,
   "metadata": {},
   "outputs": [
    {
     "data": {
      "text/plain": [
       "Yearly Mean Total Sunspot Number      78.970533\n",
       "Yearly Mean Standard Deviation         7.947761\n",
       "Number of Observations              1572.751244\n",
       "Definitive/Provisional Indicator       1.000000\n",
       "dtype: float64"
      ]
     },
     "execution_count": 138,
     "metadata": {},
     "output_type": "execute_result"
    }
   ],
   "source": [
    "sunspots.mean()    # 평균"
   ]
  },
  {
   "cell_type": "code",
   "execution_count": 141,
   "metadata": {},
   "outputs": [
    {
     "data": {
      "text/plain": [
       "Date                                1700-12-311701-12-311702-12-311703-12-311704-1...\n",
       "Yearly Mean Total Sunspot Number                                              25191.6\n",
       "Yearly Mean Standard Deviation                                                 1597.5\n",
       "Number of Observations                                                         316123\n",
       "Definitive/Provisional Indicator                                                  319\n",
       "dtype: object"
      ]
     },
     "execution_count": 141,
     "metadata": {},
     "output_type": "execute_result"
    }
   ],
   "source": [
    "sunspots.sum()    # 합"
   ]
  },
  {
   "cell_type": "code",
   "execution_count": 142,
   "metadata": {},
   "outputs": [
    {
     "data": {
      "text/plain": [
       "Date                                1700-12-31\n",
       "Yearly Mean Total Sunspot Number             0\n",
       "Yearly Mean Standard Deviation             1.1\n",
       "Number of Observations                     150\n",
       "Definitive/Provisional Indicator             1\n",
       "dtype: object"
      ]
     },
     "execution_count": 142,
     "metadata": {},
     "output_type": "execute_result"
    }
   ],
   "source": [
    "sunspots.min()"
   ]
  },
  {
   "cell_type": "code",
   "execution_count": 143,
   "metadata": {},
   "outputs": [
    {
     "data": {
      "text/plain": [
       "Date                                2018-12-31\n",
       "Yearly Mean Total Sunspot Number         269.3\n",
       "Yearly Mean Standard Deviation            19.1\n",
       "Number of Observations                   12611\n",
       "Definitive/Provisional Indicator             1\n",
       "dtype: object"
      ]
     },
     "execution_count": 143,
     "metadata": {},
     "output_type": "execute_result"
    }
   ],
   "source": [
    "sunspots.max()"
   ]
  },
  {
   "cell_type": "code",
   "execution_count": 2,
   "metadata": {},
   "outputs": [],
   "source": [
    "# sunspots.mode()   # 최빈값, 빈도가 가장 높은 값"
   ]
  },
  {
   "cell_type": "code",
   "execution_count": 146,
   "metadata": {},
   "outputs": [
    {
     "data": {
      "text/plain": [
       "Yearly Mean Total Sunspot Number    3.846464e+03\n",
       "Yearly Mean Standard Deviation      1.474961e+01\n",
       "Number of Observations              7.117629e+06\n",
       "Definitive/Provisional Indicator    0.000000e+00\n",
       "dtype: float64"
      ]
     },
     "execution_count": 146,
     "metadata": {},
     "output_type": "execute_result"
    }
   ],
   "source": [
    "sunspots.var()   # 분산"
   ]
  },
  {
   "cell_type": "code",
   "execution_count": 148,
   "metadata": {},
   "outputs": [
    {
     "data": {
      "text/plain": [
       "(Yearly Mean Total Sunspot Number    0.810785\n",
       " Yearly Mean Standard Deviation      0.546692\n",
       " Number of Observations              1.972382\n",
       " Definitive/Provisional Indicator    0.000000\n",
       " dtype: float64,)"
      ]
     },
     "execution_count": 148,
     "metadata": {},
     "output_type": "execute_result"
    }
   ],
   "source": [
    "sunspots.skew()  # 비대칭도"
   ]
  },
  {
   "cell_type": "code",
   "execution_count": 149,
   "metadata": {},
   "outputs": [
    {
     "data": {
      "text/plain": [
       "Yearly Mean Total Sunspot Number   -0.127610\n",
       "Yearly Mean Standard Deviation     -0.252353\n",
       "Number of Observations              2.728810\n",
       "Definitive/Provisional Indicator    0.000000\n",
       "dtype: float64"
      ]
     },
     "execution_count": 149,
     "metadata": {},
     "output_type": "execute_result"
    }
   ],
   "source": [
    "sunspots.kurt()  # 첨도"
   ]
  },
  {
   "cell_type": "markdown",
   "metadata": {},
   "source": [
    "# DataFrame을 불리언 방식으로 검색"
   ]
  },
  {
   "cell_type": "code",
   "execution_count": 14,
   "metadata": {},
   "outputs": [],
   "source": [
    "#sunspots['Yearly Mean Total Sunspot Number']\n",
    "# sunspots[sunspots > sunspots.mean()]"
   ]
  },
  {
   "cell_type": "code",
   "execution_count": 13,
   "metadata": {
    "scrolled": false
   },
   "outputs": [],
   "source": [
    "# 불필요한 결과\n",
    "# sunspots[sunspots['Number of Observations'] < \n",
    "#          sunspots['Number of Observations'].mean()]\n",
    "\n",
    "# # 올바른 결과\n",
    "# sunspots[sunspots['Number of Observations'] < \n",
    "#          sunspots['Number of Observations'].mean()]"
   ]
  },
  {
   "cell_type": "code",
   "execution_count": 156,
   "metadata": {},
   "outputs": [
    {
     "data": {
      "text/html": [
       "<div>\n",
       "<style scoped>\n",
       "    .dataframe tbody tr th:only-of-type {\n",
       "        vertical-align: middle;\n",
       "    }\n",
       "\n",
       "    .dataframe tbody tr th {\n",
       "        vertical-align: top;\n",
       "    }\n",
       "\n",
       "    .dataframe thead th {\n",
       "        text-align: right;\n",
       "    }\n",
       "</style>\n",
       "<table border=\"1\" class=\"dataframe\">\n",
       "  <thead>\n",
       "    <tr style=\"text-align: right;\">\n",
       "      <th></th>\n",
       "      <th>Date</th>\n",
       "      <th>Yearly Mean Total Sunspot Number</th>\n",
       "      <th>Yearly Mean Standard Deviation</th>\n",
       "      <th>Number of Observations</th>\n",
       "      <th>Definitive/Provisional Indicator</th>\n",
       "    </tr>\n",
       "  </thead>\n",
       "  <tbody>\n",
       "    <tr>\n",
       "      <th>316</th>\n",
       "      <td>2016-12-31</td>\n",
       "      <td>39.8</td>\n",
       "      <td>3.9</td>\n",
       "      <td>9940.0</td>\n",
       "      <td>1.0</td>\n",
       "    </tr>\n",
       "    <tr>\n",
       "      <th>317</th>\n",
       "      <td>2017-12-31</td>\n",
       "      <td>21.7</td>\n",
       "      <td>2.5</td>\n",
       "      <td>11444.0</td>\n",
       "      <td>1.0</td>\n",
       "    </tr>\n",
       "    <tr>\n",
       "      <th>318</th>\n",
       "      <td>2018-12-31</td>\n",
       "      <td>7.0</td>\n",
       "      <td>1.1</td>\n",
       "      <td>12611.0</td>\n",
       "      <td>1.0</td>\n",
       "    </tr>\n",
       "  </tbody>\n",
       "</table>\n",
       "</div>"
      ],
      "text/plain": [
       "           Date  Yearly Mean Total Sunspot Number  \\\n",
       "316  2016-12-31                              39.8   \n",
       "317  2017-12-31                              21.7   \n",
       "318  2018-12-31                               7.0   \n",
       "\n",
       "     Yearly Mean Standard Deviation  Number of Observations  \\\n",
       "316                             3.9                  9940.0   \n",
       "317                             2.5                 11444.0   \n",
       "318                             1.1                 12611.0   \n",
       "\n",
       "     Definitive/Provisional Indicator  \n",
       "316                               1.0  \n",
       "317                               1.0  \n",
       "318                               1.0  "
      ]
     },
     "execution_count": 156,
     "metadata": {},
     "output_type": "execute_result"
    }
   ],
   "source": [
    "sunspots.head()    # 처음 5줄\n",
    "sunspots.head(3)   # 처음 3줄\n",
    "sunspots.tail()    # 처음 5줄\n",
    "sunspots.tail(3)   # 처음 3줄"
   ]
  },
  {
   "cell_type": "markdown",
   "metadata": {},
   "source": [
    "# 데이터 프레임의 데이터 추가와 합치기 \n",
    " - 행(수직)으로 합치기 : append(), concat()"
   ]
  },
  {
   "cell_type": "code",
   "execution_count": 24,
   "metadata": {},
   "outputs": [
    {
     "data": {
      "text/html": [
       "<div>\n",
       "<style scoped>\n",
       "    .dataframe tbody tr th:only-of-type {\n",
       "        vertical-align: middle;\n",
       "    }\n",
       "\n",
       "    .dataframe tbody tr th {\n",
       "        vertical-align: top;\n",
       "    }\n",
       "\n",
       "    .dataframe thead th {\n",
       "        text-align: right;\n",
       "    }\n",
       "</style>\n",
       "<table border=\"1\" class=\"dataframe\">\n",
       "  <thead>\n",
       "    <tr style=\"text-align: right;\">\n",
       "      <th></th>\n",
       "      <th>영어점수</th>\n",
       "      <th>수학점수</th>\n",
       "    </tr>\n",
       "  </thead>\n",
       "  <tbody>\n",
       "    <tr>\n",
       "      <th>0</th>\n",
       "      <td>72</td>\n",
       "      <td>50</td>\n",
       "    </tr>\n",
       "    <tr>\n",
       "      <th>1</th>\n",
       "      <td>82</td>\n",
       "      <td>60</td>\n",
       "    </tr>\n",
       "    <tr>\n",
       "      <th>2</th>\n",
       "      <td>22</td>\n",
       "      <td>70</td>\n",
       "    </tr>\n",
       "    <tr>\n",
       "      <th>3</th>\n",
       "      <td>73</td>\n",
       "      <td>80</td>\n",
       "    </tr>\n",
       "    <tr>\n",
       "      <th>4</th>\n",
       "      <td>53</td>\n",
       "      <td>90</td>\n",
       "    </tr>\n",
       "  </tbody>\n",
       "</table>\n",
       "</div>"
      ],
      "text/plain": [
       "   영어점수  수학점수\n",
       "0    72    50\n",
       "1    82    60\n",
       "2    22    70\n",
       "3    73    80\n",
       "4    53    90"
      ]
     },
     "execution_count": 24,
     "metadata": {},
     "output_type": "execute_result"
    }
   ],
   "source": [
    "score_table1 = {'영어점수' : [72,82,22,73,53], '수학점수' : [50,60,70,80,90]}\n",
    "score_table2 = {'영어점수' : [10,20,30,40,50], '수학점수' : [20,30,40,10,30]}\n",
    "df1 = pd.DataFrame(score_table1)\n",
    "df2 = pd.DataFrame(score_table2)\n",
    "df1\n",
    "df2\n",
    "\n",
    "# 데이터 프레임에 데이터 추가 : new_dataframe = old_dataframe1.append(old_dataframe2)\n",
    "\n",
    "df1.append(df2)                # 공통된 열을 사용하여 행을 추가(컬럼은 똑같고 인스턴스만 다를 경우)\n",
    "df1.append(df2,ignore_index=True)   \n",
    "df1  # 원본 데이터는 append해도 변하지 않는다"
   ]
  },
  {
   "cell_type": "code",
   "execution_count": 26,
   "metadata": {},
   "outputs": [
    {
     "data": {
      "text/html": [
       "<div>\n",
       "<style scoped>\n",
       "    .dataframe tbody tr th:only-of-type {\n",
       "        vertical-align: middle;\n",
       "    }\n",
       "\n",
       "    .dataframe tbody tr th {\n",
       "        vertical-align: top;\n",
       "    }\n",
       "\n",
       "    .dataframe thead th {\n",
       "        text-align: right;\n",
       "    }\n",
       "</style>\n",
       "<table border=\"1\" class=\"dataframe\">\n",
       "  <thead>\n",
       "    <tr style=\"text-align: right;\">\n",
       "      <th></th>\n",
       "      <th>영어점수</th>\n",
       "      <th>수학점수</th>\n",
       "    </tr>\n",
       "  </thead>\n",
       "  <tbody>\n",
       "    <tr>\n",
       "      <th>0</th>\n",
       "      <td>72</td>\n",
       "      <td>50</td>\n",
       "    </tr>\n",
       "    <tr>\n",
       "      <th>1</th>\n",
       "      <td>82</td>\n",
       "      <td>60</td>\n",
       "    </tr>\n",
       "    <tr>\n",
       "      <th>2</th>\n",
       "      <td>22</td>\n",
       "      <td>70</td>\n",
       "    </tr>\n",
       "    <tr>\n",
       "      <th>3</th>\n",
       "      <td>73</td>\n",
       "      <td>80</td>\n",
       "    </tr>\n",
       "    <tr>\n",
       "      <th>4</th>\n",
       "      <td>53</td>\n",
       "      <td>90</td>\n",
       "    </tr>\n",
       "    <tr>\n",
       "      <th>5</th>\n",
       "      <td>10</td>\n",
       "      <td>20</td>\n",
       "    </tr>\n",
       "    <tr>\n",
       "      <th>6</th>\n",
       "      <td>20</td>\n",
       "      <td>30</td>\n",
       "    </tr>\n",
       "    <tr>\n",
       "      <th>7</th>\n",
       "      <td>30</td>\n",
       "      <td>40</td>\n",
       "    </tr>\n",
       "    <tr>\n",
       "      <th>8</th>\n",
       "      <td>40</td>\n",
       "      <td>10</td>\n",
       "    </tr>\n",
       "    <tr>\n",
       "      <th>9</th>\n",
       "      <td>50</td>\n",
       "      <td>30</td>\n",
       "    </tr>\n",
       "  </tbody>\n",
       "</table>\n",
       "</div>"
      ],
      "text/plain": [
       "   영어점수  수학점수\n",
       "0    72    50\n",
       "1    82    60\n",
       "2    22    70\n",
       "3    73    80\n",
       "4    53    90\n",
       "5    10    20\n",
       "6    20    30\n",
       "7    30    40\n",
       "8    40    10\n",
       "9    50    30"
      ]
     },
     "execution_count": 26,
     "metadata": {},
     "output_type": "execute_result"
    }
   ],
   "source": [
    "pd.concat([df1,df2],axis=0,ignore_index=True)    # ignore 쓰는 이유가 인덱스를 자연스럽게 연결하기 위해"
   ]
  },
  {
   "cell_type": "markdown",
   "metadata": {},
   "source": [
    "# 열로 합치기 \n",
    " - merge()\n",
    " - join()\n",
    " - concat()"
   ]
  },
  {
   "cell_type": "code",
   "execution_count": 28,
   "metadata": {
    "scrolled": true
   },
   "outputs": [
    {
     "data": {
      "text/html": [
       "<div>\n",
       "<style scoped>\n",
       "    .dataframe tbody tr th:only-of-type {\n",
       "        vertical-align: middle;\n",
       "    }\n",
       "\n",
       "    .dataframe tbody tr th {\n",
       "        vertical-align: top;\n",
       "    }\n",
       "\n",
       "    .dataframe thead th {\n",
       "        text-align: right;\n",
       "    }\n",
       "</style>\n",
       "<table border=\"1\" class=\"dataframe\">\n",
       "  <thead>\n",
       "    <tr style=\"text-align: right;\">\n",
       "      <th></th>\n",
       "      <th>영어점수</th>\n",
       "      <th>수학점수</th>\n",
       "      <th>영어점수</th>\n",
       "      <th>수학점수</th>\n",
       "    </tr>\n",
       "  </thead>\n",
       "  <tbody>\n",
       "    <tr>\n",
       "      <th>0</th>\n",
       "      <td>72</td>\n",
       "      <td>50</td>\n",
       "      <td>10</td>\n",
       "      <td>20</td>\n",
       "    </tr>\n",
       "    <tr>\n",
       "      <th>1</th>\n",
       "      <td>82</td>\n",
       "      <td>60</td>\n",
       "      <td>20</td>\n",
       "      <td>30</td>\n",
       "    </tr>\n",
       "    <tr>\n",
       "      <th>2</th>\n",
       "      <td>22</td>\n",
       "      <td>70</td>\n",
       "      <td>30</td>\n",
       "      <td>40</td>\n",
       "    </tr>\n",
       "    <tr>\n",
       "      <th>3</th>\n",
       "      <td>73</td>\n",
       "      <td>80</td>\n",
       "      <td>40</td>\n",
       "      <td>10</td>\n",
       "    </tr>\n",
       "    <tr>\n",
       "      <th>4</th>\n",
       "      <td>53</td>\n",
       "      <td>90</td>\n",
       "      <td>50</td>\n",
       "      <td>30</td>\n",
       "    </tr>\n",
       "  </tbody>\n",
       "</table>\n",
       "</div>"
      ],
      "text/plain": [
       "   영어점수  수학점수  영어점수  수학점수\n",
       "0    72    50    10    20\n",
       "1    82    60    20    30\n",
       "2    22    70    30    40\n",
       "3    73    80    40    10\n",
       "4    53    90    50    30"
      ]
     },
     "execution_count": 28,
     "metadata": {},
     "output_type": "execute_result"
    }
   ],
   "source": [
    "pd.concat([df1,df2],axis=1)    # ignore_index=True 를 빼주기"
   ]
  },
  {
   "cell_type": "markdown",
   "metadata": {},
   "source": [
    "merge()"
   ]
  },
  {
   "cell_type": "code",
   "execution_count": 37,
   "metadata": {
    "scrolled": false
   },
   "outputs": [
    {
     "data": {
      "text/html": [
       "<div>\n",
       "<style scoped>\n",
       "    .dataframe tbody tr th:only-of-type {\n",
       "        vertical-align: middle;\n",
       "    }\n",
       "\n",
       "    .dataframe tbody tr th {\n",
       "        vertical-align: top;\n",
       "    }\n",
       "\n",
       "    .dataframe thead th {\n",
       "        text-align: right;\n",
       "    }\n",
       "</style>\n",
       "<table border=\"1\" class=\"dataframe\">\n",
       "  <thead>\n",
       "    <tr style=\"text-align: right;\">\n",
       "      <th></th>\n",
       "      <th>EmpNr</th>\n",
       "      <th>Amount</th>\n",
       "    </tr>\n",
       "  </thead>\n",
       "  <tbody>\n",
       "    <tr>\n",
       "      <th>0</th>\n",
       "      <td>5</td>\n",
       "      <td>10.0</td>\n",
       "    </tr>\n",
       "    <tr>\n",
       "      <th>1</th>\n",
       "      <td>9</td>\n",
       "      <td>5.0</td>\n",
       "    </tr>\n",
       "    <tr>\n",
       "      <th>2</th>\n",
       "      <td>7</td>\n",
       "      <td>2.5</td>\n",
       "    </tr>\n",
       "  </tbody>\n",
       "</table>\n",
       "</div>"
      ],
      "text/plain": [
       "   EmpNr  Amount\n",
       "0      5    10.0\n",
       "1      9     5.0\n",
       "2      7     2.5"
      ]
     },
     "execution_count": 37,
     "metadata": {},
     "output_type": "execute_result"
    }
   ],
   "source": [
    "df_dest = pd.read_csv('dest.csv')\n",
    "df_tips = pd.read_csv('tips.csv')\n",
    "df_dest\n",
    "df_tips"
   ]
  },
  {
   "cell_type": "code",
   "execution_count": 41,
   "metadata": {},
   "outputs": [
    {
     "data": {
      "text/html": [
       "<div>\n",
       "<style scoped>\n",
       "    .dataframe tbody tr th:only-of-type {\n",
       "        vertical-align: middle;\n",
       "    }\n",
       "\n",
       "    .dataframe tbody tr th {\n",
       "        vertical-align: top;\n",
       "    }\n",
       "\n",
       "    .dataframe thead th {\n",
       "        text-align: right;\n",
       "    }\n",
       "</style>\n",
       "<table border=\"1\" class=\"dataframe\">\n",
       "  <thead>\n",
       "    <tr style=\"text-align: right;\">\n",
       "      <th></th>\n",
       "      <th>EmpNr</th>\n",
       "      <th>Dest</th>\n",
       "      <th>Amount</th>\n",
       "    </tr>\n",
       "  </thead>\n",
       "  <tbody>\n",
       "    <tr>\n",
       "      <th>0</th>\n",
       "      <td>5</td>\n",
       "      <td>The Hague</td>\n",
       "      <td>10.0</td>\n",
       "    </tr>\n",
       "    <tr>\n",
       "      <th>1</th>\n",
       "      <td>3</td>\n",
       "      <td>Amsterdam</td>\n",
       "      <td>NaN</td>\n",
       "    </tr>\n",
       "    <tr>\n",
       "      <th>2</th>\n",
       "      <td>9</td>\n",
       "      <td>Rotterdam</td>\n",
       "      <td>5.0</td>\n",
       "    </tr>\n",
       "    <tr>\n",
       "      <th>3</th>\n",
       "      <td>7</td>\n",
       "      <td>NaN</td>\n",
       "      <td>2.5</td>\n",
       "    </tr>\n",
       "  </tbody>\n",
       "</table>\n",
       "</div>"
      ],
      "text/plain": [
       "   EmpNr       Dest  Amount\n",
       "0      5  The Hague    10.0\n",
       "1      3  Amsterdam     NaN\n",
       "2      9  Rotterdam     5.0\n",
       "3      7        NaN     2.5"
      ]
     },
     "execution_count": 41,
     "metadata": {},
     "output_type": "execute_result"
    }
   ],
   "source": [
    "# 내부조인 : 공통조건에 만족되는 부분만 조인된다\n",
    "# 공통조건 = EmpNr\n",
    "\n",
    "pd.merge(df_dest,df_tips, how = 'inner', on='EmpNr')   \n",
    "\n",
    "# 공통된 컬럼의 결과만 보여준다\n",
    "# on 은 공통 조건을 설정\n",
    "\n",
    "\n",
    "# 외부조인 : 공통조건 관계 없이 모두 조인된다\n",
    "\n",
    "pd.merge(df_dest,df_tips, how = 'outer')   "
   ]
  },
  {
   "cell_type": "code",
   "execution_count": 43,
   "metadata": {},
   "outputs": [
    {
     "data": {
      "text/html": [
       "<div>\n",
       "<style scoped>\n",
       "    .dataframe tbody tr th:only-of-type {\n",
       "        vertical-align: middle;\n",
       "    }\n",
       "\n",
       "    .dataframe tbody tr th {\n",
       "        vertical-align: top;\n",
       "    }\n",
       "\n",
       "    .dataframe thead th {\n",
       "        text-align: right;\n",
       "    }\n",
       "</style>\n",
       "<table border=\"1\" class=\"dataframe\">\n",
       "  <thead>\n",
       "    <tr style=\"text-align: right;\">\n",
       "      <th></th>\n",
       "      <th>EmpNrdf_dest</th>\n",
       "      <th>Dest</th>\n",
       "      <th>EmpNrdf_tips</th>\n",
       "      <th>Amount</th>\n",
       "    </tr>\n",
       "  </thead>\n",
       "  <tbody>\n",
       "    <tr>\n",
       "      <th>0</th>\n",
       "      <td>5</td>\n",
       "      <td>The Hague</td>\n",
       "      <td>5</td>\n",
       "      <td>10.0</td>\n",
       "    </tr>\n",
       "    <tr>\n",
       "      <th>1</th>\n",
       "      <td>3</td>\n",
       "      <td>Amsterdam</td>\n",
       "      <td>9</td>\n",
       "      <td>5.0</td>\n",
       "    </tr>\n",
       "    <tr>\n",
       "      <th>2</th>\n",
       "      <td>9</td>\n",
       "      <td>Rotterdam</td>\n",
       "      <td>7</td>\n",
       "      <td>2.5</td>\n",
       "    </tr>\n",
       "  </tbody>\n",
       "</table>\n",
       "</div>"
      ],
      "text/plain": [
       "   EmpNrdf_dest       Dest  EmpNrdf_tips  Amount\n",
       "0             5  The Hague             5    10.0\n",
       "1             3  Amsterdam             9     5.0\n",
       "2             9  Rotterdam             7     2.5"
      ]
     },
     "execution_count": 43,
     "metadata": {},
     "output_type": "execute_result"
    }
   ],
   "source": [
    "# join(self, other, on, how, lsuffix, rsuffix, sort)\n",
    "df_dest.join(df_tips,lsuffix='df_dest',rsuffix='df_tips')"
   ]
  },
  {
   "cell_type": "code",
   "execution_count": 80,
   "metadata": {},
   "outputs": [],
   "source": [
    "employee = [{'empno':1, 'ename':'kim', 'dept':1},\n",
    "            {'empno':2, 'ename':'lee', 'dept':2}, \n",
    "            {'empno':3, 'ename':'park', 'dept':1}, \n",
    "            {'empno':4, 'ename':'song', 'dept':3},\n",
    "            {'empno':5, 'ename':'min', 'dept':2} ]\n",
    "\n",
    "dept=[{'dept':1, 'deptname':'관리직'},\n",
    "      {'dept':2, 'deptname':'영업직'},\n",
    "      {'dept':3, 'deptname':'개발직'} ]\n",
    "\n",
    "info =[{'empno':1, 'addr':'서울시','phone':'010-1111-1111'},\n",
    "       {'empno':3, 'addr':'부산시','phone':'010-2222-2222'}, \n",
    "       {'empno':2, 'addr':'광주시','phone':'010-3333-3333'}, \n",
    "       {'empno':5, 'addr':'광주시','phone':'010-4444-4444'},\n",
    "       {'empno':4, 'addr':'광주시','phone':'010-5555-5555'} ]\n",
    "\n",
    "emp = pd.DataFrame(employee)\n",
    "dept = pd.DataFrame(dept)\n",
    "info = pd.DataFrame(info)\n",
    "\n"
   ]
  },
  {
   "cell_type": "code",
   "execution_count": 81,
   "metadata": {},
   "outputs": [],
   "source": [
    "# 내부조인\n",
    "m = pd.merge(emp,dept,how = 'inner', on='dept')\n",
    "m.drop(columns = ['dept'],inplace = True)             # 'dept' 컬럼이 삭제\n",
    "m\n",
    "# drop(self, labels, axis, index, columns, level, inplace, errors)\n",
    "m.drop(index = [1,3], inplace = True)                 # 1,3행을 삭제\n"
   ]
  },
  {
   "cell_type": "code",
   "execution_count": 82,
   "metadata": {},
   "outputs": [
    {
     "data": {
      "text/html": [
       "<div>\n",
       "<style scoped>\n",
       "    .dataframe tbody tr th:only-of-type {\n",
       "        vertical-align: middle;\n",
       "    }\n",
       "\n",
       "    .dataframe tbody tr th {\n",
       "        vertical-align: top;\n",
       "    }\n",
       "\n",
       "    .dataframe thead th {\n",
       "        text-align: right;\n",
       "    }\n",
       "</style>\n",
       "<table border=\"1\" class=\"dataframe\">\n",
       "  <thead>\n",
       "    <tr style=\"text-align: right;\">\n",
       "      <th></th>\n",
       "      <th>ename</th>\n",
       "      <th>deptname</th>\n",
       "      <th>addr</th>\n",
       "      <th>phone</th>\n",
       "    </tr>\n",
       "  </thead>\n",
       "  <tbody>\n",
       "    <tr>\n",
       "      <th>0</th>\n",
       "      <td>kim</td>\n",
       "      <td>관리직</td>\n",
       "      <td>서울시</td>\n",
       "      <td>010-1111-1111</td>\n",
       "    </tr>\n",
       "    <tr>\n",
       "      <th>1</th>\n",
       "      <td>lee</td>\n",
       "      <td>영업직</td>\n",
       "      <td>광주시</td>\n",
       "      <td>010-3333-3333</td>\n",
       "    </tr>\n",
       "    <tr>\n",
       "      <th>2</th>\n",
       "      <td>song</td>\n",
       "      <td>개발직</td>\n",
       "      <td>광주시</td>\n",
       "      <td>010-5555-5555</td>\n",
       "    </tr>\n",
       "  </tbody>\n",
       "</table>\n",
       "</div>"
      ],
      "text/plain": [
       "  ename deptname addr          phone\n",
       "0   kim      관리직  서울시  010-1111-1111\n",
       "1   lee      영업직  광주시  010-3333-3333\n",
       "2  song      개발직  광주시  010-5555-5555"
      ]
     },
     "execution_count": 82,
     "metadata": {},
     "output_type": "execute_result"
    }
   ],
   "source": [
    "m2 = pd.merge(m,info,how = 'inner', on='empno')\n",
    "m2.drop(columns = ['empno'],inplace = True)\n",
    "m2"
   ]
  },
  {
   "cell_type": "markdown",
   "metadata": {},
   "source": [
    "# 원하는 행을 추출\n",
    " \n",
    " - contains() 메소드를 사용하여 조건을 검색, 행을 추출 _ str만 가능\n",
    "\n",
    " - 데이터 이름[데이터이름['칼럼명'].str.contains('원하는 단어')]"
   ]
  },
  {
   "cell_type": "code",
   "execution_count": 98,
   "metadata": {},
   "outputs": [
    {
     "name": "stdout",
     "output_type": "stream",
     "text": [
      "0    False\n",
      "1    False\n",
      "2    False\n",
      "Name: ename, dtype: bool\n",
      "  ename deptname addr          phone\n",
      "1   lee      영업직  광주시  010-3333-3333\n",
      "  ename deptname addr          phone\n",
      "1   lee      영업직  광주시  010-3333-3333\n",
      "2  song      개발직  광주시  010-5555-5555\n",
      "  ename deptname addr          phone\n",
      "0   kim      관리직  서울시  010-1111-1111\n"
     ]
    }
   ],
   "source": [
    "sr = m2['ename'].str.contains('park')\n",
    "type(sr)\n",
    "print(sr)\n",
    "m2[1:2]\n",
    "m2[sr]\n",
    "\n",
    "print(m2[m2['deptname'].str.contains('영업직')])\n",
    "print(m2[m2['addr'].str.contains('광주시')])\n",
    "print(m2[m2['ename'].str.contains('k')])"
   ]
  },
  {
   "cell_type": "markdown",
   "metadata": {},
   "source": [
    "series 객체의 통계 메소드"
   ]
  },
  {
   "cell_type": "code",
   "execution_count": 106,
   "metadata": {},
   "outputs": [
    {
     "name": "stdout",
     "output_type": "stream",
     "text": [
      "sum= 302\n",
      "mean= 60.4\n",
      "median= 72.0\n",
      "min= 22\n",
      "max= 82\n"
     ]
    }
   ],
   "source": [
    "score_table1 = {'영어' : [72,82,22,73,53], '수학' : [50,60,70,80,90]}\n",
    "df1 = pd.DataFrame(score_table1)\n",
    "sr = df1['영어']\n",
    "# sum,mean,median,min,max\n",
    "sr.sum()\n",
    "print('sum=',df1['영어'].sum())\n",
    "print('mean=',df1['영어'].mean())\n",
    "print('median=',df1['영어'].median())\n",
    "print('min=',df1['영어'].min())\n",
    "print('max=',df1['영어'].max())"
   ]
  },
  {
   "cell_type": "markdown",
   "metadata": {},
   "source": [
    "# 누락된 데이터(결측치, NaN, NaT) 다루기 "
   ]
  },
  {
   "cell_type": "code",
   "execution_count": 121,
   "metadata": {},
   "outputs": [
    {
     "name": "stdout",
     "output_type": "stream",
     "text": [
      "   Country  Net primary school enrolment ratio male (%)\n",
      "0    False                                         True\n",
      "1    False                                        False\n",
      "   Country  Net primary school enrolment ratio male (%)\n",
      "0     True                                        False\n",
      "1     True                                         True\n",
      "Country                                        0\n",
      "Net primary school enrolment ratio male (%)    1\n",
      "dtype: int64\n",
      "Country                                        2\n",
      "Net primary school enrolment ratio male (%)    1\n",
      "dtype: int64\n"
     ]
    },
    {
     "data": {
      "text/html": [
       "<div>\n",
       "<style scoped>\n",
       "    .dataframe tbody tr th:only-of-type {\n",
       "        vertical-align: middle;\n",
       "    }\n",
       "\n",
       "    .dataframe tbody tr th {\n",
       "        vertical-align: top;\n",
       "    }\n",
       "\n",
       "    .dataframe thead th {\n",
       "        text-align: right;\n",
       "    }\n",
       "</style>\n",
       "<table border=\"1\" class=\"dataframe\">\n",
       "  <thead>\n",
       "    <tr style=\"text-align: right;\">\n",
       "      <th></th>\n",
       "      <th>Country</th>\n",
       "      <th>Net primary school enrolment ratio male (%)</th>\n",
       "    </tr>\n",
       "  </thead>\n",
       "  <tbody>\n",
       "    <tr>\n",
       "      <th>0</th>\n",
       "      <td>Afghanistan</td>\n",
       "      <td>0.0</td>\n",
       "    </tr>\n",
       "    <tr>\n",
       "      <th>1</th>\n",
       "      <td>Albania</td>\n",
       "      <td>94.0</td>\n",
       "    </tr>\n",
       "  </tbody>\n",
       "</table>\n",
       "</div>"
      ],
      "text/plain": [
       "       Country  Net primary school enrolment ratio male (%)\n",
       "0  Afghanistan                                          0.0\n",
       "1      Albania                                         94.0"
      ]
     },
     "execution_count": 121,
     "metadata": {},
     "output_type": "execute_result"
    }
   ],
   "source": [
    "df = pd.read_csv('WHO_first9cols.csv')\n",
    "df.columns[-2]\n",
    "df[['Country',df.columns[-2]]]        # 원하는 컬럼과 원하는 컬럼 내용 \n",
    "df[['Country',df.columns[-2]]][:2]   # 그 중에서 원하는 부분 슬라이싱\n",
    "df2 = df[['Country',df.columns[-2]]][:2]\n",
    "print(pd.isnull(df2))\n",
    "print(pd.notnull(df2))\n",
    "\n",
    "print(pd.isnull(df2).sum())\n",
    "print(pd.notnull(df2).sum())\n",
    "df.notnull()\n",
    "df3 = df2.fillna(0)    # NaN을 0으로 수정, 결측치 수정 \n",
    "df3\n",
    "\n",
    "# median 은 중간값\n",
    "# mean   은 평균값 \n",
    "# 평균을 구할 때 0을 넣게 되면 오히려 줄어드다"
   ]
  },
  {
   "cell_type": "markdown",
   "metadata": {},
   "source": [
    "# 결측치 \n",
    " - 결측치 부분을 메꾸는 방법\n",
    " \n",
    "test['viewCount'] = test['viewCount'].fillna(test.viewCount.mean())\n",
    "\n",
    "\n",
    " - 만약 결측치가 문자열 스페이스(' ')로 되어 있다면, np.nan으로 바꾸어 Pandas 라이브러리가 인식할수 있도록 변환\n",
    " \n",
    "test.viewCount = test.viewCount.replace('', np.nan)\n",
    "\n",
    "\n",
    " - 결측치를 제거하는 방법\n",
    " \n",
    "test.dropna(how='all').head() # 한 행이 모두 missing value이면 제거\n",
    "test.dropna(how='any').head() # 한 행에서 하나라도 missing value가 있으면 제거"
   ]
  },
  {
   "cell_type": "markdown",
   "metadata": {},
   "source": [
    "날짜다루기 : pd.to_datetime(['2019-7-25'])"
   ]
  },
  {
   "cell_type": "code",
   "execution_count": 134,
   "metadata": {},
   "outputs": [],
   "source": [
    "# posix 시간 표기법 :   1970년 1월 1일\n",
    "pd.date_range('9/22/1677',periods = 4, freq='d')   # ok!\n",
    "pd.date_range('9/21/1677',periods = 4, freq='d')   # error!"
   ]
  },
  {
   "cell_type": "code",
   "execution_count": 142,
   "metadata": {},
   "outputs": [
    {
     "data": {
      "text/plain": [
       "TimedeltaIndex(['0 days'], dtype='timedelta64[ns]', freq=None)"
      ]
     },
     "execution_count": 142,
     "metadata": {},
     "output_type": "execute_result"
    }
   ],
   "source": [
    "date1 = '2019-07-25'\n",
    "date2 = '2019/07/25'\n",
    "type(date1)\n",
    "d1 = pd.to_datetime([date1])\n",
    "d2 = pd.to_datetime([date2])\n",
    "t = d2 -d1\n",
    "t\n",
    "# 날짜 변수로 바꾸면 계산이 가능하다. 시간과의 차이를 만든다."
   ]
  },
  {
   "cell_type": "code",
   "execution_count": null,
   "metadata": {},
   "outputs": [],
   "source": []
  }
 ],
 "metadata": {
  "kernelspec": {
   "display_name": "Python 3",
   "language": "python",
   "name": "python3"
  },
  "language_info": {
   "codemirror_mode": {
    "name": "ipython",
    "version": 3
   },
   "file_extension": ".py",
   "mimetype": "text/x-python",
   "name": "python",
   "nbconvert_exporter": "python",
   "pygments_lexer": "ipython3",
   "version": "3.7.3"
  }
 },
 "nbformat": 4,
 "nbformat_minor": 2
}
