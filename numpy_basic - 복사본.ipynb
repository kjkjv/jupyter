{
 "cells": [
  {
   "cell_type": "markdown",
   "metadata": {},
   "source": [
    "# 02장 numpy 기본"
   ]
  },
  {
   "cell_type": "code",
   "execution_count": 9,
   "metadata": {},
   "outputs": [
    {
     "name": "stdout",
     "output_type": "stream",
     "text": [
      "<class 'list'>\n",
      "<class 'numpy.ndarray'>\n"
     ]
    },
    {
     "data": {
      "text/plain": [
       "array([0, 1, 2, 3, 4, 5])"
      ]
     },
     "execution_count": 9,
     "metadata": {},
     "output_type": "execute_result"
    }
   ],
   "source": [
    "import numpy as np\n",
    "data1 = [0,1,2,3,4,5]\n",
    "data1\n",
    "print(type(data1))       # <class 'list'>\n",
    "\n",
    "a1 = np.array(data1)\n",
    "print(type(a1))          # <class 'numpy.ndarray'>\n",
    "a1\n",
    "# ndarray : 다차원 배열 \n",
    "# a1은 인스턴스 객체"
   ]
  },
  {
   "cell_type": "code",
   "execution_count": 15,
   "metadata": {},
   "outputs": [
    {
     "data": {
      "text/plain": [
       "dtype('int32')"
      ]
     },
     "execution_count": 15,
     "metadata": {},
     "output_type": "execute_result"
    }
   ],
   "source": [
    "a1.dtype\n",
    "# a1.dtype은 괄호가 없어서 인스턴스 멤버."
   ]
  },
  {
   "cell_type": "code",
   "execution_count": 18,
   "metadata": {
    "scrolled": true
   },
   "outputs": [
    {
     "name": "stdout",
     "output_type": "stream",
     "text": [
      "float64\n"
     ]
    },
    {
     "data": {
      "text/plain": [
       "array([0.1, 2. , 3. , 4. ])"
      ]
     },
     "execution_count": 18,
     "metadata": {},
     "output_type": "execute_result"
    }
   ],
   "source": [
    "data2 = [0.1,2,3,4]\n",
    "a2 = np.array(data2)\n",
    "print(a2.dtype)        # float64\n",
    "a2"
   ]
  },
  {
   "cell_type": "code",
   "execution_count": 31,
   "metadata": {},
   "outputs": [
    {
     "name": "stdout",
     "output_type": "stream",
     "text": [
      "[ 0  1  2  3  4  5  6  7  8  9 10 11]\n",
      "(12,)\n"
     ]
    },
    {
     "data": {
      "text/plain": [
       "array([ 0,  1,  2,  3,  4,  5,  6,  7,  8,  9, 10, 11])"
      ]
     },
     "execution_count": 31,
     "metadata": {},
     "output_type": "execute_result"
    }
   ],
   "source": [
    "# np.arange()         # array + range = 즉 range 함수다.\n",
    "a3 = np.arange(12)    # array 함수로 형변환\n",
    "print(a3) \n",
    "print(a3.shape)       # shape 확인\n",
    "a3"
   ]
  },
  {
   "cell_type": "code",
   "execution_count": 21,
   "metadata": {},
   "outputs": [
    {
     "data": {
      "text/plain": [
       "array([2, 3, 4, 5, 6, 7, 8, 9])"
      ]
     },
     "execution_count": 21,
     "metadata": {},
     "output_type": "execute_result"
    }
   ],
   "source": [
    "a4 = np.arange(2,10)\n",
    "a4 "
   ]
  },
  {
   "cell_type": "code",
   "execution_count": 24,
   "metadata": {},
   "outputs": [
    {
     "data": {
      "text/plain": [
       "array([ 0,  2,  4,  6,  8, 10, 12, 14])"
      ]
     },
     "execution_count": 24,
     "metadata": {},
     "output_type": "execute_result"
    }
   ],
   "source": [
    "a5 = np.arange(0,16,2)\n",
    "a5"
   ]
  },
  {
   "cell_type": "markdown",
   "metadata": {},
   "source": [
    "2차원, 3차원, 다차원\n",
    "1차원 (x,)\n",
    "2차원 (x,y)\n",
    "3차원 (x,y,z)\n",
    ".......\n",
    "n차원 (x,y,z.......)"
   ]
  },
  {
   "cell_type": "code",
   "execution_count": 32,
   "metadata": {},
   "outputs": [
    {
     "name": "stdout",
     "output_type": "stream",
     "text": [
      "[[0 1]\n",
      " [0 1]]\n",
      "(2, 2)\n"
     ]
    },
    {
     "data": {
      "text/plain": [
       "array([[0, 1],\n",
       "       [0, 1]])"
      ]
     },
     "execution_count": 32,
     "metadata": {},
     "output_type": "execute_result"
    }
   ],
   "source": [
    "m2 = np.array([np.arange(2), np.arange(2)])\n",
    "print(m2)\n",
    "print(m2.shape)      # (2, 2)_행이 2, 열이 2\n",
    "m2"
   ]
  },
  {
   "cell_type": "code",
   "execution_count": 29,
   "metadata": {},
   "outputs": [],
   "source": [
    "Rank : 차원, 첫 데이터까지의 대괄호의 갯수\n",
    "shape : 차원의 요소수들의 수\n",
    "대괄호 갯수가 Rank 수가 된다.\n",
    "스칼라는 Rank가 0이다."
   ]
  },
  {
   "cell_type": "code",
   "execution_count": 33,
   "metadata": {},
   "outputs": [
    {
     "name": "stdout",
     "output_type": "stream",
     "text": [
      "[[[ 0  1  2]\n",
      "  [ 3  4  5]]\n",
      "\n",
      " [[ 6  7  8]\n",
      "  [ 9 10 11]]]\n",
      "(2, 2, 3)\n"
     ]
    },
    {
     "data": {
      "text/plain": [
       "array([[[ 0,  1,  2],\n",
       "        [ 3,  4,  5]],\n",
       "\n",
       "       [[ 6,  7,  8],\n",
       "        [ 9, 10, 11]]])"
      ]
     },
     "execution_count": 33,
     "metadata": {},
     "output_type": "execute_result"
    }
   ],
   "source": [
    "m3 = np.arange(12).reshape(2,2,3) \n",
    "print(m3)\n",
    "print(m3.shape)\n",
    "m3\n",
    "\n",
    "# 첫 번째 대괄호를 삭제하고 몇 개 있는지 파악 = x\n",
    "# 두 번째 대괄호를 삭제하고 몇 개 있는지 파악 = y\n",
    "# 나머지 대괄호 갯수를 파악 = z "
   ]
  },
  {
   "cell_type": "markdown",
   "metadata": {},
   "source": [
    "배열의 shape 바꾸기 : reshape()"
   ]
  },
  {
   "cell_type": "code",
   "execution_count": 51,
   "metadata": {
    "scrolled": false
   },
   "outputs": [
    {
     "name": "stdout",
     "output_type": "stream",
     "text": [
      "(12,)\n",
      "[ 0  1  2  3  4  5  6  7  8  9 10 11]\n",
      "(3, 4)\n",
      "[[ 0  1  2  3]\n",
      " [ 4  5  6  7]\n",
      " [ 8  9 10 11]]\n",
      "(2, 6)\n",
      "[[ 0  1  2  3  4  5]\n",
      " [ 6  7  8  9 10 11]]\n",
      "(3, 4)\n",
      "[[ 0  1  2  3]\n",
      " [ 4  5  6  7]\n",
      " [ 8  9 10 11]]\n",
      "(2, 3, 2)\n",
      "[[[ 0  1]\n",
      "  [ 2  3]\n",
      "  [ 4  5]]\n",
      "\n",
      " [[ 6  7]\n",
      "  [ 8  9]\n",
      "  [10 11]]]\n",
      "(1, 2, 3, 2)\n",
      "[[[[ 0  1]\n",
      "   [ 2  3]\n",
      "   [ 4  5]]\n",
      "\n",
      "  [[ 6  7]\n",
      "   [ 8  9]\n",
      "   [10 11]]]]\n"
     ]
    }
   ],
   "source": [
    "# reshape 함수는 차원을 변형하는 함수\n",
    "# 1차원\n",
    "d = np.arange(12)\n",
    "print(d.shape)\n",
    "print(d)\n",
    "\n",
    "# 2차원\n",
    "d = d.reshape(3,4)\n",
    "print(d.shape)\n",
    "print(d)\n",
    "\n",
    "d = d.reshape(-1,6)                 # (-)를 넣어주면 알아서 계산해라(행의 요소수를 알아서 계산)\n",
    "print(d.shape)\n",
    "print(d)\n",
    "\n",
    "d = d.reshape(3,-1)                 # 열의 요소수를 알아서 계산\n",
    "print(d.shape)\n",
    "print(d)\n",
    "\n",
    "# 3차원\n",
    "d = d.reshape(2,3,2)\n",
    "print(d.shape)\n",
    "print(d)\n",
    "\n",
    "# 4차원\n",
    "d = d.reshape(1,2,3,2)\n",
    "print(d.shape)\n",
    "print(d)\n",
    "\n",
    "# shape을 만들 때는 전체적인 모양을 생각해라\n",
    "# 12로 만들었으면 2차원이던 3차원이던 곱셈도 12로 나오게 만들기"
   ]
  },
  {
   "cell_type": "markdown",
   "metadata": {},
   "source": [
    "배열의 인덱싱과 슬라이싱"
   ]
  },
  {
   "cell_type": "code",
   "execution_count": 54,
   "metadata": {},
   "outputs": [
    {
     "name": "stdout",
     "output_type": "stream",
     "text": [
      "[ 0  1  2  3  4  5  6  7  8  9 10 11]\n",
      "0 1 11\n",
      "[ 0  1  2  3  4  5  6  7  8  9 10] [ 0  2  4  6  8 10]\n"
     ]
    }
   ],
   "source": [
    "# 1차원 배열의 인덱싱과 슬라이싱 : list와 동일한 방법\n",
    "d = np.arange(12)\n",
    "print(d)\n",
    "print(d[0],d[1],d[-1])\n",
    "print(d[:-1],d[:-1:2])"
   ]
  },
  {
   "cell_type": "code",
   "execution_count": 15,
   "metadata": {
    "scrolled": true
   },
   "outputs": [
    {
     "name": "stdout",
     "output_type": "stream",
     "text": [
      "[[ 0  1  2  3]\n",
      " [ 4  5  6  7]\n",
      " [ 8  9 10 11]]\n",
      "0\n",
      "10\n",
      "[0 4 8]\n",
      "[0 1 2 3]\n",
      "[[ 0  1  2]\n",
      " [ 4  5  6]\n",
      " [ 8  9 10]]\n",
      "[[ 0  2]\n",
      " [ 8 10]]\n",
      "[[20 20 20 20]\n",
      " [ 4  5  6  7]\n",
      " [ 8  9 10 11]]\n",
      "[[30 20 20 30]\n",
      " [ 4  5  6  7]\n",
      " [ 8  9 10 11]]\n",
      "시작\n",
      "[30  4  8]\n"
     ]
    }
   ],
   "source": [
    "# 2차원 배열의 인덱싱과 슬라이싱\n",
    "# data[행, 열]\n",
    "d = np.arange(12).reshape(3,4)\n",
    "print(d)\n",
    "\n",
    "# 인덱싱\n",
    "print(d[0,0])                   # 인덱싱\n",
    "print(d[2,2])                   # 10을 추출\n",
    "\n",
    "# 슬라이싱\n",
    "print(d[:,0])                   # [0 4 8]\n",
    "print(d[0])                     # [0 1 2 3]\n",
    "print(d[:,:-1])               #  [[ 0  1  2]\n",
    "#                                [ 4  5  6]\n",
    "#                                [ 8  9 10]]\n",
    "\n",
    "print(d[::2,::2])\n",
    "\n",
    "# 데이터 변형\n",
    "d[0] = 20\n",
    "print(d)\n",
    "d[::3,::3] = 30\n",
    "print(d)\n",
    "print('시작')\n",
    "print(d[:,0]) "
   ]
  },
  {
   "cell_type": "code",
   "execution_count": 18,
   "metadata": {},
   "outputs": [
    {
     "name": "stdout",
     "output_type": "stream",
     "text": [
      "[[[ 0  1  2]\n",
      "  [ 3  4  5]]\n",
      "\n",
      " [[ 6  7  8]\n",
      "  [ 9 10 11]]]\n",
      "7\n",
      "5\n",
      "[[[0 1]]\n",
      "\n",
      " [[6 7]]]\n",
      "[[[ 4  5]]\n",
      "\n",
      " [[10 11]]]\n",
      "[[[6 7]]]\n",
      "[[[ 3  4]]\n",
      "\n",
      " [[ 9 10]]]\n"
     ]
    }
   ],
   "source": [
    "# 3차원 배열의 인덱싱과 슬라이싱\n",
    "# data[행, 열, 면]\n",
    "d = np.arange(12).reshape(2,2,3)\n",
    "print(d)\n",
    "\n",
    "# 인덱싱\n",
    "print(d[1,0,1])                   # 7\n",
    "print(d[0,1,2])                   # 5\n",
    "\n",
    "# 슬라이싱\n",
    "print(d[:,:-1,:-1])               # shape : (2,1,2)\n",
    "print(d[:,1:,1:])                 # shape : (2,1,2)\n",
    "print(d[1:,:-1,:-1])\n",
    "print(d[:,1:,:-1])"
   ]
  },
  {
   "cell_type": "code",
   "execution_count": 20,
   "metadata": {},
   "outputs": [
    {
     "name": "stdout",
     "output_type": "stream",
     "text": [
      "[0 1 2 3]\n",
      "[[ 0  1  2  3]\n",
      " [ 4  5  6  7]\n",
      " [ 8  9 10 11]]\n",
      "1\n",
      "1\n",
      "10\n"
     ]
    }
   ],
   "source": [
    "d = np.arange(12).reshape(3,4)\n",
    "print(d[0])\n",
    "print(d)\n",
    "# 같은 값이 나온다\n",
    "print(d[0][1])\n",
    "print(d[0,1])\n",
    "print(d[2,2])"
   ]
  },
  {
   "cell_type": "code",
   "execution_count": 24,
   "metadata": {},
   "outputs": [
    {
     "name": "stdout",
     "output_type": "stream",
     "text": [
      "[[0 1 2]\n",
      " [3 4 5]]\n",
      "[[[ 0  1  2]\n",
      "  [ 3  4  5]]\n",
      "\n",
      " [[ 6  7  8]\n",
      "  [ 9 10 11]]]\n",
      "[3 4 5]\n",
      "[3 4 5]\n",
      "3\n",
      "3\n",
      "8\n",
      "4\n"
     ]
    }
   ],
   "source": [
    "d = np.arange(12).reshape(2,2,3)\n",
    "print(d[0])\n",
    "print(d)\n",
    "print(d[0][1])\n",
    "print(d[0,1])\n",
    "print(d[0][1][0])\n",
    "print(d[0,1,0])\n",
    "print(d[1,0,2])\n",
    "print(d[0,1,1])"
   ]
  },
  {
   "cell_type": "markdown",
   "metadata": {},
   "source": [
    "배열 형상 다루기 : 편평화, 전치, reshape\n",
    "\n",
    "print 를 쓰면 리스트로 형태로 행이 나오고\n",
    "안쓰면 콤마로 해서 나온다"
   ]
  },
  {
   "cell_type": "code",
   "execution_count": 25,
   "metadata": {},
   "outputs": [
    {
     "name": "stdout",
     "output_type": "stream",
     "text": [
      "[[ 0  1  2  3]\n",
      " [ 4  5  6  7]\n",
      " [ 8  9 10 11]]\n",
      "[ 0  1  2  3  4  5  6  7  8  9 10 11]\n",
      "[ 0  1  2  3  4  5  6  7  8  9 10 11] (12,)\n",
      "[[ 0  1  2]\n",
      " [ 3  4  5]\n",
      " [ 6  7  8]\n",
      " [ 9 10 11]]\n",
      "[[ 8  9 10 11]\n",
      " [ 4  5  6  7]\n",
      " [ 0  1  2  3]]\n",
      "[[ 3  2  1  0]\n",
      " [ 7  6  5  4]\n",
      " [11 10  9  8]]\n",
      "[[11 10  9  8]\n",
      " [ 7  6  5  4]\n",
      " [ 3  2  1  0]]\n",
      "[[ 0  4  8]\n",
      " [ 1  5  9]\n",
      " [ 2  6 10]\n",
      " [ 3  7 11]]\n",
      "(4, 3)\n"
     ]
    }
   ],
   "source": [
    "# 편평화 : 다차원 배열을 1차원으로 만든다\n",
    "d = np.arange(12).reshape(3,4)\n",
    "print(d)\n",
    "f = d.flatten()\n",
    "print(f)\n",
    "print(f,f.shape)\n",
    "\n",
    "r = f.reshape(4,3)\n",
    "print(r)\n",
    "\n",
    "# 데이터 순서를 거꾸로 변경\n",
    "print(d[::-1,:])   # 행의 순서를 거꾸로 \n",
    "print(d[:,::-1]) # 열의 순서를 거꾸로\n",
    "print(d[::-1,::-1]) # 행과 열의 순서를 거꾸로\n",
    "\n",
    "# 전치 행렬(행과 열을 서로 맞바꾸는 함수)\n",
    "t = d.transpose()\n",
    "print(t)\n",
    "print(t.shape)   # (3,4) = > (4,3)\n",
    "# [[ 0  4  8]\n",
    "#  [ 1  5  9]\n",
    "#  [ 2  6 10]\n",
    "#  [ 3  7 11]]"
   ]
  },
  {
   "cell_type": "markdown",
   "metadata": {},
   "source": [
    "배열합치기\n",
    " - 수평(h, 열)으로 합치기 : hstack(), column_stack() , axis = 1\n",
    " - 수직(v, 행)으로 합치기 : vstack(), row_stack()    , axis = 0  , 행이 우선!, 생략하면 행이 된다(텐선플로에서 자주 등장)"
   ]
  },
  {
   "cell_type": "code",
   "execution_count": 122,
   "metadata": {},
   "outputs": [
    {
     "name": "stdout",
     "output_type": "stream",
     "text": [
      "[[0 1 2]\n",
      " [3 4 5]\n",
      " [6 7 8]]\n",
      "[[ 0  2  4]\n",
      " [ 6  8 10]\n",
      " [12 14 16]]\n",
      "[[ 0  1  2  0  2  4]\n",
      " [ 3  4  5  6  8 10]\n",
      " [ 6  7  8 12 14 16]]\n",
      "[[ 0  1  2  0  2  4]\n",
      " [ 3  4  5  6  8 10]\n",
      " [ 6  7  8 12 14 16]]\n",
      "[[ 0  1  2  0  2  4]\n",
      " [ 3  4  5  6  8 10]\n",
      " [ 6  7  8 12 14 16]]\n"
     ]
    }
   ],
   "source": [
    "# 수평으로 합치기 : hstack()\n",
    "a = np.arange(9).reshape(3,3)\n",
    "b = a * 2   # 배열의 연산 \n",
    "\n",
    "print(a)\n",
    "print(b)\n",
    "\n",
    "r = np.hstack((a,b))\n",
    "print(r)\n",
    "c = np.column_stack((a,b))\n",
    "print(c)\n",
    "\n",
    "x = np.concatenate((a,b),axis = 1)    # 열 : axis = 1\n",
    "print(x)\n"
   ]
  },
  {
   "cell_type": "code",
   "execution_count": 123,
   "metadata": {},
   "outputs": [
    {
     "name": "stdout",
     "output_type": "stream",
     "text": [
      "[[0 1 2]\n",
      " [3 4 5]\n",
      " [6 7 8]]\n",
      "[[ 0  2  4]\n",
      " [ 6  8 10]\n",
      " [12 14 16]]\n",
      "[[ 0  1  2]\n",
      " [ 3  4  5]\n",
      " [ 6  7  8]\n",
      " [ 0  2  4]\n",
      " [ 6  8 10]\n",
      " [12 14 16]]\n",
      "[[ 0  1  2]\n",
      " [ 3  4  5]\n",
      " [ 6  7  8]\n",
      " [ 0  2  4]\n",
      " [ 6  8 10]\n",
      " [12 14 16]]\n",
      "[[ 0  1  2]\n",
      " [ 3  4  5]\n",
      " [ 6  7  8]\n",
      " [ 0  2  4]\n",
      " [ 6  8 10]\n",
      " [12 14 16]]\n"
     ]
    }
   ],
   "source": [
    "# 수직으로 합치기 : vstack()\n",
    "a = np.arange(9).reshape(3,3)\n",
    "b = a * 2   # 배열의 연산 \n",
    "\n",
    "print(a)\n",
    "print(b)\n",
    "\n",
    "r = np.vstack((a,b))\n",
    "print(r)\n",
    "c = np.row_stack((a,b))\n",
    "print(c)\n",
    "x = np.concatenate((a,b),axis = 0)    # 행 : axis = 0\n",
    "print(x)"
   ]
  },
  {
   "cell_type": "markdown",
   "metadata": {},
   "source": [
    "# 쪼개기\n",
    "- hsplit(배열, 열의 갯수) : 수평, 열, axis = 1\n",
    "- vsplit(배열, 행의 갯수) : 수직, 행, axis = 0"
   ]
  },
  {
   "cell_type": "code",
   "execution_count": 134,
   "metadata": {},
   "outputs": [
    {
     "name": "stdout",
     "output_type": "stream",
     "text": [
      "[[0 1 2]\n",
      " [3 4 5]\n",
      " [6 7 8]]\n",
      "[array([[0],\n",
      "       [3],\n",
      "       [6]]), array([[1],\n",
      "       [4],\n",
      "       [7]]), array([[2],\n",
      "       [5],\n",
      "       [8]])]\n",
      "[array([[0],\n",
      "       [4],\n",
      "       [8]]), array([[1],\n",
      "       [5],\n",
      "       [9]]), array([[ 2],\n",
      "       [ 6],\n",
      "       [10]]), array([[ 3],\n",
      "       [ 7],\n",
      "       [11]])]\n",
      "[array([[0, 1],\n",
      "       [4, 5],\n",
      "       [8, 9]]), array([[ 2,  3],\n",
      "       [ 6,  7],\n",
      "       [10, 11]])]\n",
      "[array([[0, 1, 2, 3]]), array([[4, 5, 6, 7]]), array([[ 8,  9, 10, 11]])]\n",
      "[array([[0],\n",
      "       [4],\n",
      "       [8]]), array([[1],\n",
      "       [5],\n",
      "       [9]]), array([[ 2],\n",
      "       [ 6],\n",
      "       [10]]), array([[ 3],\n",
      "       [ 7],\n",
      "       [11]])]\n",
      "[array([[0, 1, 2, 3]]), array([[4, 5, 6, 7]]), array([[ 8,  9, 10, 11]])]\n"
     ]
    }
   ],
   "source": [
    "a = np.arange(9).reshape(3,3)\n",
    "print(a)\n",
    "print(np.hsplit(a,3))\n",
    "\n",
    "a = np.arange(12).reshape(3,4)\n",
    "print(np.hsplit(a,4))\n",
    "print(np.hsplit(a,2))\n",
    "print(np.vsplit(a,3))\n",
    "print(np.split(a,4,axis = 1))  # 열\n",
    "print(np.split(a,3,axis = 0))  # 행"
   ]
  },
  {
   "cell_type": "markdown",
   "metadata": {},
   "source": [
    "numpy 속성 : 클래스의 인스턴스 멤버변수\n",
    "\n",
    "    -T, flat, ndim, nbytes, size, dtype"
   ]
  },
  {
   "cell_type": "code",
   "execution_count": 135,
   "metadata": {},
   "outputs": [
    {
     "name": "stdout",
     "output_type": "stream",
     "text": [
      "[[ 0  1  2  3]\n",
      " [ 4  5  6  7]\n",
      " [ 8  9 10 11]]\n",
      "48\n",
      "12\n",
      "int32\n",
      "2\n",
      "[[ 0  4  8]\n",
      " [ 1  5  9]\n",
      " [ 2  6 10]\n",
      " [ 3  7 11]]\n",
      "[[0 0 0 0]\n",
      " [0 0 0 0]\n",
      " [0 0 0 0]]\n"
     ]
    }
   ],
   "source": [
    "a = np.arange(12).reshape(3,4)\n",
    "print(a)\n",
    "print(a.nbytes)    # 48 : byte단위로 데이터 크기\n",
    "print(a.size)      # 12 : 데이터 크기\n",
    "print(a.dtype)     # int32  =>  4byte\n",
    "print(a.ndim)      # 2 , 차원의 크기 \n",
    "print(a.T)         # 전치 행렬\n",
    "a.flat = 0         # 배열 전체를 0으로 변경\n",
    "print(a)"
   ]
  },
  {
   "cell_type": "markdown",
   "metadata": {},
   "source": [
    "배열의 뷰(view)와 사본(copy)\n",
    "\n",
    "view : 원본 객체와 메모리를 공유한다\n",
    "\n",
    "copy : 원본 객체와는 다른 별도의 메모리를 사용한다"
   ]
  },
  {
   "cell_type": "code",
   "execution_count": 157,
   "metadata": {},
   "outputs": [
    {
     "name": "stdout",
     "output_type": "stream",
     "text": [
      "<class 'numpy.ndarray'>\n",
      "(768, 1024, 3)\n",
      "2359296\n",
      "2359296\n",
      "uint8\n",
      "3\n"
     ]
    },
    {
     "ename": "ValueError",
     "evalue": "assignment destination is read-only",
     "output_type": "error",
     "traceback": [
      "\u001b[1;31m---------------------------------------------------------------------------\u001b[0m",
      "\u001b[1;31mValueError\u001b[0m                                Traceback (most recent call last)",
      "\u001b[1;32m<ipython-input-157-7a505de6a76e>\u001b[0m in \u001b[0;36m<module>\u001b[1;34m\u001b[0m\n\u001b[0;32m     18\u001b[0m \u001b[1;33m\u001b[0m\u001b[0m\n\u001b[0;32m     19\u001b[0m \u001b[0mf_view\u001b[0m \u001b[1;33m=\u001b[0m \u001b[0mface\u001b[0m\u001b[1;33m.\u001b[0m\u001b[0mview\u001b[0m\u001b[1;33m(\u001b[0m\u001b[1;33m)\u001b[0m\u001b[1;33m\u001b[0m\u001b[1;33m\u001b[0m\u001b[0m\n\u001b[1;32m---> 20\u001b[1;33m \u001b[0mf_view\u001b[0m\u001b[1;33m[\u001b[0m\u001b[1;33m:\u001b[0m\u001b[1;33m,\u001b[0m\u001b[1;33m:\u001b[0m\u001b[1;33m,\u001b[0m\u001b[1;36m0\u001b[0m\u001b[1;33m]\u001b[0m \u001b[1;33m=\u001b[0m \u001b[1;36m0\u001b[0m\u001b[1;33m\u001b[0m\u001b[1;33m\u001b[0m\u001b[0m\n\u001b[0m\u001b[0;32m     21\u001b[0m \u001b[0mplt\u001b[0m\u001b[1;33m.\u001b[0m\u001b[0mimshow\u001b[0m\u001b[1;33m(\u001b[0m\u001b[0mf_view\u001b[0m\u001b[1;33m)\u001b[0m\u001b[1;33m\u001b[0m\u001b[1;33m\u001b[0m\u001b[0m\n\u001b[0;32m     22\u001b[0m \u001b[0mplt\u001b[0m\u001b[1;33m.\u001b[0m\u001b[0mshow\u001b[0m\u001b[1;33m\u001b[0m\u001b[1;33m\u001b[0m\u001b[0m\n",
      "\u001b[1;31mValueError\u001b[0m: assignment destination is read-only"
     ]
    },
    {
     "data": {
      "image/png": "[encoded data removed]",
      "text/plain": [
       "<Figure size 432x288 with 1 Axes>"
      ]
     },
     "metadata": {
      "needs_background": "light"
     },
     "output_type": "display_data"
    }
   ],
   "source": [
    "import scipy.misc\n",
    "import matplotlib.pyplot as plt\n",
    "\n",
    "face = scipy.misc.face()   # read only\n",
    "face2 = face.copy()        # read and write \n",
    "print(type(face))\n",
    "print(face.shape)      # (768, 1024, 3)\n",
    "\n",
    "print(face.nbytes)    \n",
    "print(face.size)      \n",
    "print(face.dtype)     \n",
    "print(face.ndim) \n",
    "\n",
    "f_copy = face.copy()       # 카피본을 바꿔도 원본은 바뀌지 않는다\n",
    "f_copy.flat = 0\n",
    "plt.imshow(f_copy)\n",
    "plt.show\n",
    "\n",
    "f_view = face.view()\n",
    "plt.imshow(f_view)\n",
    "plt.show\n",
    "\n",
    "plt.subplot(221)           # 화면에 동시에 나오게 하는 subplot\n",
    "plt.imshow(f_copy)\n",
    "\n",
    "plt.subplot(222)\n",
    "plt.imshow(f_view)\n",
    "\n",
    "plt.subplot(223)\n",
    "plt.imshow(face)\n",
    "\n",
    "print(face)\n",
    "face[:,:,0] = 0       # 빨간색 없애기\n",
    "face[:,:,1] = 0       # 녹색 없애기\n",
    "face[:,:,2] = 0       # 파란색 없애기"
   ]
  },
  {
   "cell_type": "code",
   "execution_count": null,
   "metadata": {},
   "outputs": [],
   "source": []
  }
 ],
 "metadata": {
  "kernelspec": {
   "display_name": "Python 3",
   "language": "python",
   "name": "python3"
  },
  "language_info": {
   "codemirror_mode": {
    "name": "ipython",
    "version": 3
   },
   "file_extension": ".py",
   "mimetype": "text/x-python",
   "name": "python",
   "nbconvert_exporter": "python",
   "pygments_lexer": "ipython3",
   "version": "3.7.3"
  }
 },
 "nbformat": 4,
 "nbformat_minor": 2
}
