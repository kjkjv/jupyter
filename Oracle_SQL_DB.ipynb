{
 "cells": [
  {
   "cell_type": "markdown",
   "metadata": {},
   "source": [
    "Oracle_SQL_DB 연동하기"
   ]
  },
  {
   "cell_type": "code",
   "execution_count": 23,
   "metadata": {},
   "outputs": [
    {
     "ename": "DatabaseError",
     "evalue": "ORA-00955: 기존의 객체가 이름을 사용하고 있습니다.",
     "output_type": "error",
     "traceback": [
      "\u001b[1;31m---------------------------------------------------------------------------\u001b[0m",
      "\u001b[1;31mDatabaseError\u001b[0m                             Traceback (most recent call last)",
      "\u001b[1;32m<ipython-input-23-80ea0511a7ea>\u001b[0m in \u001b[0;36m<module>\u001b[1;34m\u001b[0m\n\u001b[0;32m     16\u001b[0m \u001b[1;31m# 테이블 생성\u001b[0m\u001b[1;33m\u001b[0m\u001b[1;33m\u001b[0m\u001b[1;33m\u001b[0m\u001b[0m\n\u001b[0;32m     17\u001b[0m cursor.execute(\"\"\"CREATE TABLE EMP_TEMP\n\u001b[1;32m---> 18\u001b[1;33m     AS SELECT * FROM EMP\"\"\")\n\u001b[0m\u001b[0;32m     19\u001b[0m \u001b[1;33m\u001b[0m\u001b[0m\n\u001b[0;32m     20\u001b[0m \u001b[1;33m\u001b[0m\u001b[0m\n",
      "\u001b[1;31mDatabaseError\u001b[0m: ORA-00955: 기존의 객체가 이름을 사용하고 있습니다."
     ]
    }
   ],
   "source": [
    "# pip install cx_Oracle\n",
    "# pip install cx_Oracle\n",
    "\n",
    "\n",
    "import cx_Oracle\n",
    "import pandas as pd\n",
    "import numpy as np\n",
    "\n",
    "\n",
    "# scott/tiger 접속\n",
    "conn = cx_Oracle.connect('scott/tiger@localhost:1521/orcl')\n",
    "# conn = cx_Oracle.connect('scott/tiger@192.168.43.112:1521/orcl')\n",
    "cursor = conn.cursor()\n",
    "\n",
    "\n",
    "# 테이블 생성\n",
    "cursor.execute(\"\"\"CREATE TABLE EMP_TEMP\n",
    "    AS SELECT * FROM EMP\"\"\")\n",
    "\n",
    "\n",
    "# 데이터 추가하기\n",
    "cursor.execute(\"\"\"INSERT INTO EMP_TEMP\n",
    "        VALUES (7001,'MrPython','ANALYST',7566,\n",
    "        '1980/01/01',1000,50,20 )\"\"\")\n",
    "conn.commit() \n",
    "\n",
    "cursor.execute(\"SELECT * FROM EMP_TEMP\")\n",
    "row = cursor.fetchall()\n",
    "# print(row)\n",
    "\n",
    "\n",
    "# 데이터 프레임 생성\n",
    "header = ['EMPNO','ENAME','JOB','MGR',\n",
    "          'HIREDATE','SAL','COMM','DEPTNO']\n",
    "\n",
    "df = pd.DataFrame(row,columns=header)\n",
    "# print(df)\n",
    "\n",
    "cursor.execute(\"DROP TABLE EMP_TEMP\")\n",
    "conn.commit()    \n",
    "\n",
    "\n",
    "\n",
    "# 프로그램 종료시에는 아래와 같이 DB 접속을 해제시킨다 \n",
    "cursor.close()\n",
    "conn.close()\n",
    "# df"
   ]
  },
  {
   "cell_type": "code",
   "execution_count": 55,
   "metadata": {},
   "outputs": [
    {
     "name": "stdout",
     "output_type": "stream",
     "text": [
      "\n",
      "워터 틴트\n",
      "\n",
      "<p class=\"product_price price_sale b-product_price-sale b-product_price\" data-pricevalue=\"45000.0\" title=\"판매 가격\">\n",
      "<span class=\"product_price_title b-product_price-title\"></span>\n",
      "\n",
      "\n",
      "\n",
      "\n",
      "45,000원\n",
      "\n",
      "\n",
      "</p>\n",
      "SRC: https://www.yslbeautykr.com/dw/image/v2/AAWH_PRD/on/demandware.static/-/Sites-ysl-master-catalog/default/dw5bbd6c16/Makeup/Lips/VERNIS A LEVRES WATER STAIN/3614272556539_612_1.png?sw=202&sh=267&sm=fit&q=70\n"
     ]
    }
   ],
   "source": [
    "import urllib.request as REQ\n",
    "import urllib.parse\n",
    "from bs4 import BeautifulSoup\n",
    "\n",
    "urlpage = 0\n",
    "url1 = 'https://www.yslbeautykr.com/ko_KR/makeup/lips?sz=12&start='\n",
    "url = url1 + str(urlpage)\n",
    "response = REQ.urlopen(url)\n",
    "soup = BeautifulSoup(response,'html.parser')\n",
    "# print(soup.prettify())\n",
    "soup.select_one('a')     # tag가 'a' 인 데이터를 1개만 반환\n",
    "soup.select('a')         # tag가 'a' 인 데이터를 list로 반환\n",
    "soup.find('a')\n",
    "soup.find_all('a')\n",
    "soup.findAll('a')\n",
    "\n",
    "div = soup.findAll('div',{'class':'product_tile'})\n",
    "p_tag = div[0].find('a',{'class':'product_name desktop_content tablet_content'})\n",
    "p_tag\n",
    "\n",
    "\n",
    "name_tag = div[0].find('div',{'class':'product_subtitle'})\n",
    "name_tag\n",
    "print(name_tag.getText())\n",
    "\n",
    "span_tag = div[0].find('p',{'class':'product_price price_sale b-product_price-sale b-product_price'})\n",
    "print(span_tag)\n",
    "\n",
    "img_tag = div[0].find('img')\n",
    "print('SRC:',img_tag.get('data-desktop-src').strip())"
   ]
  },
  {
   "cell_type": "code",
   "execution_count": 56,
   "metadata": {},
   "outputs": [
    {
     "ename": "SyntaxError",
     "evalue": "invalid syntax (<ipython-input-56-9a4cd45540e1>, line 6)",
     "output_type": "error",
     "traceback": [
      "\u001b[1;36m  File \u001b[1;32m\"<ipython-input-56-9a4cd45540e1>\"\u001b[1;36m, line \u001b[1;32m6\u001b[0m\n\u001b[1;33m    SRC = img_tag ecode('utf8').decode('utf8'))\u001b[0m\n\u001b[1;37m                      ^\u001b[0m\n\u001b[1;31mSyntaxError\u001b[0m\u001b[1;31m:\u001b[0m invalid syntax\n"
     ]
    }
   ],
   "source": [
    "sql_insert = 'insert into COSMATIC VALUES(:BRAND, :NAME,:PRICE, :SRC)'\n",
    "cursor.execute(sql_insert,\n",
    "              BRAND = p_tag,\n",
    "              NAME = name_tag,\n",
    "              PRICE = span_tag,\n",
    "              SRC = img_tag ecode('utf8').decode('utf8'))\n",
    "conn.commit()    "
   ]
  },
  {
   "cell_type": "code",
   "execution_count": null,
   "metadata": {},
   "outputs": [],
   "source": []
  }
 ],
 "metadata": {
  "kernelspec": {
   "display_name": "Python 3",
   "language": "python",
   "name": "python3"
  },
  "language_info": {
   "codemirror_mode": {
    "name": "ipython",
    "version": 3
   },
   "file_extension": ".py",
   "mimetype": "text/x-python",
   "name": "python",
   "nbconvert_exporter": "python",
   "pygments_lexer": "ipython3",
   "version": "3.7.3"
  }
 },
 "nbformat": 4,
 "nbformat_minor": 2
}
